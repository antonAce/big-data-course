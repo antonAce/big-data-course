{
 "cells": [
  {
   "cell_type": "markdown",
   "metadata": {
    "application/vnd.databricks.v1+cell": {
     "inputWidgets": {},
     "nuid": "fa927031-eb22-49a7-9ed9-ce9b7e0dba73",
     "showTitle": false,
     "title": ""
    }
   },
   "source": [
    "# User review sentiment analysis\n",
    "\n",
    "The key topic of this research is to build *natural language processing* model for sentiment analysis of the users feedback. To generalize, this experiment consists of the following steps:\n",
    " - Set the goal of the research:\n",
    "   - Defining the domain for the research and preliminary problem definition;\n",
    "   - Raw data collection, which is publicly available user reviews on the popular gaming platforms (like Steam, Origin e.t.c.);\n",
    "   - Storing data;\n",
    "   - Data visualization and description;\n",
    " - Data preprocessing:\n",
    "   - Dataset cleaning:\n",
    "     - Assigning specific types to the data attributes;\n",
    "     - Deleting duplicates;\n",
    "     - Removing missing records (NaN, Null values): substitution with default values, mean values or deleting;\n",
    "   - Exploratory data analysis:\n",
    "     - Usage of descriptive statistics (MEAN, SD e.t.c) for the attributes;\n",
    "     - Correlational and covariational analysis, causal researches;\n",
    "   - Feature engineering, which in the NLP domain is text vectorization;\n",
    "   - Data split on training + testing datasets (80 / 20 ratio) and model selection + training;\n",
    "   - Validaion and hyperparameter tuning;\n",
    "   - Results documenting;\n",
    "   \n",
    "## Problem definition\n",
    " \n",
    "The key goal of the developing NLP system is to classify user game review by sentimental characteristics (e.g. joy, sadness, anger e.t.c.). The solution of this problem will result in minimizing rate of unfair scores of the games on the platform and group review by the temperament. The core entity in this experiment is `review`, that contains following attributes:\n",
    " - id          *uuid* - a unique comment identifier;\n",
    " - app_id      *int* - a game id, which comment is related to;\n",
    " - nickname    *varchar* - an author of the review;\n",
    " - date_time   *timestamp* - the date of the review posting;\n",
    " - containment *varchar* - the review content, which is an input attribute;\n",
    " - reaction    *varchar* - sentimental characteristics of the review, which is **manually labeled**;\n",
    " \n",
    "Input parameter is an `containment` attribute, which is a charset with max length of 10000 symbols, and output parameter is a single class of containment temperament from a set `[sadness, love, fear, surprise, joy, anger]`.\n",
    " \n",
    "## Data analysis platform\n",
    "\n",
    "All data processing is performed on the `Apache Spark` computational engine for streaming and batching processing of the Big Data using the paradigm, similar to **MAP-REDUCE**, which is a part of ecosystem of `Hadoop`. Unlike pure Python solutions (which does all processing in the instructions interpreter mode), `Apache Spark` performs effective procedure of data parallelization and fast computation using *RDD (Resilient Distributed Dataset)*.\n",
    "\n",
    "**MAP-REDUCE** is a programming model that allows you to perform simple and efficient distribution of computational tasks on each node (core) of a computing device or cluster. The model consists of basic steps:\n",
    "  - ** MAP ** - performs the procedure of distribution of each value in the dataset to create a new data structure;\n",
    "  - ** REDUCE ** - performs the procedure of combining the data structure into a new value;\n",
    "\n",
    "The input and output for each step are represented as a `key-value` pair, and the procedures themselves are specified according to the following pattern:\n",
    "\n",
    "```\n",
    "map (in_key, in_value)\n",
    "    list (out_key, intermediate_value)\n",
    "    \n",
    "reduce (out_key, list (intermediate_value))\n",
    "    list (out_value)\n",
    "```\n",
    "\n",
    "The ** MAP ** function creates an intermediate value for the intended source key, the ** REDUCE ** function combines all intermediate values for a specific key. The classic ** MAP-REDUCE ** works in synchronous mode. The input data is separated and several `map ()` tasks are performed in parallel. After all `map ()` procedures are completed, all intermediate values are combined for all unique keys, performing several `reduce ()` tasks in parallel.\n",
    "\n",
    "###### Example of the MAP-REDUCE execution\n",
    "\n",
    "The task of deriving unique words in the text and counting the number of their repetition:\n",
    "  - **MAP**: Dividing each sentence from the dataset into a single word and assigning it a repetition index of 1;\n",
    "  - **REDUCE**: Grouping word-index pairs by calculating the number of elements in each group;\n",
    "  \n",
    "![Documentation](../docs/map_reduce_example.png)\n",
    "\n",
    "\n",
    "## Internal Apache Spark settings\n",
    "\n",
    "`Apache Spark` can work both on a single computing device and on a set of computing devices connected in a cluster (known as a SPARK-cluster). Typically, any cluster has a resource manager that efficiently handles the load between those resources. The two most widely used resource managers are ** YARN ** and ** Mesos **. The resource manager consists of two main components:\n",
    "  - Cluster manager;\n",
    "  - Worker (Worker);\n",
    "  \n",
    "This is like a *master-slave* architecture, in which the cluster manager acts as the master node and the working node acts as the slave node in the cluster. The cluster manager keeps track of all information about workstations and their current status. Cluster managers always store the following information:\n",
    "  - Status of the working node (busy / available);\n",
    "  - Location of the working node;\n",
    "  - Memory of the working node;\n",
    "  - The total number of processor cores of the working node;\n",
    "\n",
    "The main role of the cluster manager is to manage workstations and assign tasks to them, based on the availability and capacity of the workstation. On the other hand, the workstation is only responsible for performing the task assigned to it by the cluster manager.\n",
    "\n",
    "The main advantages of `Apache Spark` over other solutions:\n",
    "  - Simplicity;\n",
    "  - ML and analytics tools;\n",
    "  - Real-time streaming;\n",
    "  - Increase in performance (due to the use of RAM resources in the calculation);\n",
    "  \n",
    "Let's check the presence of the `Apache Spark` cluster on the device"
   ]
  },
  {
   "cell_type": "code",
   "execution_count": null,
   "metadata": {
    "application/vnd.databricks.v1+cell": {
     "inputWidgets": {},
     "nuid": "f8e2a009-65ea-4ac9-87b5-f5a6c8fd8fa9",
     "showTitle": false,
     "title": ""
    }
   },
   "outputs": [
    {
     "data": {
      "text/html": [
       "<style scoped>\n",
       "  .ansiout {\n",
       "    display: block;\n",
       "    unicode-bidi: embed;\n",
       "    white-space: pre-wrap;\n",
       "    word-wrap: break-word;\n",
       "    word-break: break-all;\n",
       "    font-family: \"Source Code Pro\", \"Menlo\", monospace;;\n",
       "    font-size: 13px;\n",
       "    color: #555;\n",
       "    margin-left: 4px;\n",
       "    line-height: 19px;\n",
       "  }\n",
       "</style>\n",
       "<div class=\"ansiout\">Out[1]: </div>"
      ]
     },
     "metadata": {
      "application/vnd.databricks.v1+output": {
       "addedWidgets": {},
       "arguments": {},
       "data": "<div class=\"ansiout\">Out[1]: </div>",
       "datasetInfos": [],
       "metadata": {},
       "removedWidgets": [],
       "type": "html"
      }
     },
     "output_type": "display_data"
    },
    {
     "data": {
      "text/html": [
       "\n",
       "            <div>\n",
       "                <p><b>SparkSession - hive</b></p>\n",
       "                \n",
       "        <div>\n",
       "            <p><b>SparkContext</b></p>\n",
       "\n",
       "            <p><a href=\"/?o=0#setting/sparkui/0-0-pager0/driver-0\">Spark UI</a></p>\n",
       "\n",
       "            <dl>\n",
       "              <dt>Version</dt>\n",
       "                <dd><code>v3.1.0</code></dd>\n",
       "              <dt>Master</dt>\n",
       "                <dd><code>local[*]</code></dd>\n",
       "              <dt>AppName</dt>\n",
       "                <dd><code>Databricks Shell</code></dd>\n",
       "            </dl>\n",
       "        </div>\n",
       "        \n",
       "            </div>\n",
       "        "
      ]
     },
     "metadata": {
      "application/vnd.databricks.v1+output": {
       "addedWidgets": {},
       "arguments": {},
       "data": "\n            <div>\n                <p><b>SparkSession - hive</b></p>\n                \n        <div>\n            <p><b>SparkContext</b></p>\n\n            <p><a href=\"/?o=2183573830748112#setting/sparkui/0521-193303-pager262/driver-6099789880772609127\">Spark UI</a></p>\n\n            <dl>\n              <dt>Version</dt>\n                <dd><code>v3.1.0</code></dd>\n              <dt>Master</dt>\n                <dd><code>local[*]</code></dd>\n              <dt>AppName</dt>\n                <dd><code>Databricks Shell</code></dd>\n            </dl>\n        </div>\n        \n            </div>\n        ",
       "datasetInfos": [],
       "metadata": {},
       "removedWidgets": [],
       "textData": null,
       "type": "htmlSandbox"
      }
     },
     "output_type": "display_data"
    }
   ],
   "source": [
    "from pyspark.sql.functions import *\n",
    "from pyspark.sql.types import *\n",
    "\n",
    "spark"
   ]
  },
  {
   "cell_type": "markdown",
   "metadata": {
    "application/vnd.databricks.v1+cell": {
     "inputWidgets": {},
     "nuid": "4de7b97f-5240-4564-8c67-449ff18c4c2e",
     "showTitle": false,
     "title": ""
    }
   },
   "source": [
    "There are multiple ways to access files from `Databricks` cluster, the one that used here is mounting Azure Blob storage to the `HDFS://` with `Shared Access Signature`"
   ]
  },
  {
   "cell_type": "code",
   "execution_count": null,
   "metadata": {
    "application/vnd.databricks.v1+cell": {
     "inputWidgets": {},
     "nuid": "f7cce60e-45e7-4d35-b681-4150d27e1919",
     "showTitle": false,
     "title": ""
    }
   },
   "outputs": [],
   "source": [
    "%scala\n",
    "\n",
    "val containerName = \"\" # Container name of the storage account\n",
    "val storageAccountName = \"\" # Storage on the Azure Blob service\n",
    "val sas = \"\"\n",
    "val config = \"fs.azure.sas.\" + containerName+ \".\" + storageAccountName + \".blob.core.windows.net\"\n",
    "\n",
    "dbutils.fs.mount(\n",
    "  source = \"wasbs://\" + containerName + \"@\" + storageAccountName + \".blob.core.windows.net/TrainData\",\n",
    "  mountPoint = \"/mnt/traindata\",\n",
    "  extraConfigs = Map(config -> sas))"
   ]
  },
  {
   "cell_type": "markdown",
   "metadata": {
    "application/vnd.databricks.v1+cell": {
     "inputWidgets": {},
     "nuid": "13b35819-1ca5-483f-81e1-d37aa8518af4",
     "showTitle": false,
     "title": ""
    }
   },
   "source": [
    "Reading data sources from mounted point"
   ]
  },
  {
   "cell_type": "code",
   "execution_count": null,
   "metadata": {
    "application/vnd.databricks.v1+cell": {
     "inputWidgets": {},
     "nuid": "41da16c8-3cc3-41aa-bf61-e6532a0115df",
     "showTitle": false,
     "title": ""
    }
   },
   "outputs": [],
   "source": [
    "%python\n",
    "\n",
    "from pyspark.sql.functions import *\n",
    "from pyspark.sql.types import *\n",
    "\n",
    "schema = StructType() \\\n",
    "      .add(\"comment\", StringType(), True)\\\n",
    "      .add(\"emotion\", StringType(), True)\n",
    "\n",
    "dataset = spark.read.format(\"csv\")\\\n",
    "      .option(\"header\", \"true\")\\\n",
    "      .option(\"sep\", \";\")\\\n",
    "      .schema(schema)\\\n",
    "      .load(\"/mnt/traindata\")\n",
    "\n",
    "display(dataset)"
   ]
  },
  {
   "cell_type": "markdown",
   "metadata": {
    "application/vnd.databricks.v1+cell": {
     "inputWidgets": {},
     "nuid": "f77aefab-6864-4ff7-9565-71e814c38dde",
     "showTitle": false,
     "title": ""
    }
   },
   "source": [
    "As in example above, we perform the map-reduce operation to count unique classes of our model"
   ]
  },
  {
   "cell_type": "code",
   "execution_count": null,
   "metadata": {
    "application/vnd.databricks.v1+cell": {
     "inputWidgets": {},
     "nuid": "0aa0e55e-5419-45d3-86c9-8657b8e05d15",
     "showTitle": false,
     "title": ""
    }
   },
   "outputs": [
    {
     "data": {
      "text/html": [
       "<style scoped>\n",
       "  .ansiout {\n",
       "    display: block;\n",
       "    unicode-bidi: embed;\n",
       "    white-space: pre-wrap;\n",
       "    word-wrap: break-word;\n",
       "    word-break: break-all;\n",
       "    font-family: \"Source Code Pro\", \"Menlo\", monospace;;\n",
       "    font-size: 13px;\n",
       "    color: #555;\n",
       "    margin-left: 4px;\n",
       "    line-height: 19px;\n",
       "  }\n",
       "</style>\n",
       "<div class=\"ansiout\">Out[4]: </div>"
      ]
     },
     "metadata": {
      "application/vnd.databricks.v1+output": {
       "addedWidgets": {},
       "arguments": {},
       "data": "<div class=\"ansiout\">Out[4]: </div>",
       "datasetInfos": [],
       "metadata": {},
       "removedWidgets": [],
       "type": "html"
      }
     },
     "output_type": "display_data"
    },
    {
     "data": {
      "text/html": [
       "<div>\n",
       "<style scoped>\n",
       "    .dataframe tbody tr th:only-of-type {\n",
       "        vertical-align: middle;\n",
       "    }\n",
       "\n",
       "    .dataframe tbody tr th {\n",
       "        vertical-align: top;\n",
       "    }\n",
       "\n",
       "    .dataframe thead th {\n",
       "        text-align: right;\n",
       "    }\n",
       "</style>\n",
       "<table border=\"1\" class=\"dataframe\">\n",
       "  <thead>\n",
       "    <tr style=\"text-align: right;\">\n",
       "      <th></th>\n",
       "      <th>label</th>\n",
       "      <th>count</th>\n",
       "    </tr>\n",
       "  </thead>\n",
       "  <tbody>\n",
       "    <tr>\n",
       "      <th>0</th>\n",
       "      <td>sadness</td>\n",
       "      <td>5794</td>\n",
       "    </tr>\n",
       "    <tr>\n",
       "      <th>1</th>\n",
       "      <td>love</td>\n",
       "      <td>1641</td>\n",
       "    </tr>\n",
       "    <tr>\n",
       "      <th>2</th>\n",
       "      <td>fear</td>\n",
       "      <td>2373</td>\n",
       "    </tr>\n",
       "    <tr>\n",
       "      <th>3</th>\n",
       "      <td>surprise</td>\n",
       "      <td>719</td>\n",
       "    </tr>\n",
       "    <tr>\n",
       "      <th>4</th>\n",
       "      <td>joy</td>\n",
       "      <td>6761</td>\n",
       "    </tr>\n",
       "    <tr>\n",
       "      <th>5</th>\n",
       "      <td>anger</td>\n",
       "      <td>2709</td>\n",
       "    </tr>\n",
       "  </tbody>\n",
       "</table>\n",
       "</div>"
      ]
     },
     "metadata": {
      "application/vnd.databricks.v1+output": {
       "addedWidgets": {},
       "arguments": {},
       "data": "<div>\n<style scoped>\n    .dataframe tbody tr th:only-of-type {\n        vertical-align: middle;\n    }\n\n    .dataframe tbody tr th {\n        vertical-align: top;\n    }\n\n    .dataframe thead th {\n        text-align: right;\n    }\n</style>\n<table border=\"1\" class=\"dataframe\">\n  <thead>\n    <tr style=\"text-align: right;\">\n      <th></th>\n      <th>label</th>\n      <th>count</th>\n    </tr>\n  </thead>\n  <tbody>\n    <tr>\n      <th>0</th>\n      <td>sadness</td>\n      <td>5794</td>\n    </tr>\n    <tr>\n      <th>1</th>\n      <td>love</td>\n      <td>1641</td>\n    </tr>\n    <tr>\n      <th>2</th>\n      <td>fear</td>\n      <td>2373</td>\n    </tr>\n    <tr>\n      <th>3</th>\n      <td>surprise</td>\n      <td>719</td>\n    </tr>\n    <tr>\n      <th>4</th>\n      <td>joy</td>\n      <td>6761</td>\n    </tr>\n    <tr>\n      <th>5</th>\n      <td>anger</td>\n      <td>2709</td>\n    </tr>\n  </tbody>\n</table>\n</div>",
       "datasetInfos": [],
       "metadata": {},
       "removedWidgets": [],
       "textData": null,
       "type": "htmlSandbox"
      }
     },
     "output_type": "display_data"
    }
   ],
   "source": [
    "agg_labels = dataset.select(col(\"emotion\")).rdd.map(lambda word: (word[0], 1))\\\n",
    "                                            .reduceByKey(lambda x, y: x + y)\\\n",
    "                                            .toDF([\"label\", \"count\"])\n",
    "\n",
    "agg_labels.toPandas()"
   ]
  },
  {
   "cell_type": "markdown",
   "metadata": {
    "application/vnd.databricks.v1+cell": {
     "inputWidgets": {},
     "nuid": "ff900b93-dbcb-4a3e-a3c4-8ab838fd46b7",
     "showTitle": false,
     "title": ""
    }
   },
   "source": [
    "The visualization of the count comparison. From this perspecive, the major issue with the dataset is label imbalancy, which can result underfitting of the model on most of the labels."
   ]
  },
  {
   "cell_type": "code",
   "execution_count": null,
   "metadata": {
    "application/vnd.databricks.v1+cell": {
     "inputWidgets": {},
     "nuid": "e69dab65-5c0e-48d6-9023-c27d1dc9ed11",
     "showTitle": false,
     "title": ""
    }
   },
   "outputs": [
    {
     "data": {
      "image/png": "[encoded data removed]"
     },
     "metadata": {
      "application/vnd.databricks.v1+output": {
       "addedWidgets": {},
       "arguments": {},
       "data": "/plots/31782a27-f927-4c93-a67f-04d7b6ef2b11.png",
       "datasetInfos": [],
       "metadata": {},
       "removedWidgets": [],
       "type": "image"
      }
     },
     "output_type": "display_data"
    }
   ],
   "source": [
    "import matplotlib.pyplot as plt\n",
    "\n",
    "label_summary = agg_labels.toPandas()\n",
    "\n",
    "plt.bar(label_summary[\"label\"], label_summary[\"count\"])\n",
    "plt.title(\"Label balance\")\n",
    "plt.show()"
   ]
  },
  {
   "cell_type": "markdown",
   "metadata": {
    "application/vnd.databricks.v1+cell": {
     "inputWidgets": {},
     "nuid": "eef5fb56-a30d-4ba9-9431-6a2eda2d15b1",
     "showTitle": false,
     "title": ""
    }
   },
   "source": [
    "Let's perform **EDA** on the classes count column. The problem from above was confirmed - labels count has major imbalance, which can be seen in a high value of the **Standart deviation**."
   ]
  },
  {
   "cell_type": "code",
   "execution_count": null,
   "metadata": {
    "application/vnd.databricks.v1+cell": {
     "inputWidgets": {},
     "nuid": "e1a656d0-31dc-4644-8cf0-d7a6918bc01f",
     "showTitle": false,
     "title": ""
    }
   },
   "outputs": [
    {
     "data": {
      "text/html": [
       "<style scoped>\n",
       "  .ansiout {\n",
       "    display: block;\n",
       "    unicode-bidi: embed;\n",
       "    white-space: pre-wrap;\n",
       "    word-wrap: break-word;\n",
       "    word-break: break-all;\n",
       "    font-family: \"Source Code Pro\", \"Menlo\", monospace;;\n",
       "    font-size: 13px;\n",
       "    color: #555;\n",
       "    margin-left: 4px;\n",
       "    line-height: 19px;\n",
       "  }\n",
       "</style>\n",
       "<div class=\"ansiout\">Out[9]: </div>"
      ]
     },
     "metadata": {
      "application/vnd.databricks.v1+output": {
       "addedWidgets": {},
       "arguments": {},
       "data": "<div class=\"ansiout\">Out[9]: </div>",
       "datasetInfos": [],
       "metadata": {},
       "removedWidgets": [],
       "type": "html"
      }
     },
     "output_type": "display_data"
    },
    {
     "data": {
      "text/html": [
       "<div>\n",
       "<style scoped>\n",
       "    .dataframe tbody tr th:only-of-type {\n",
       "        vertical-align: middle;\n",
       "    }\n",
       "\n",
       "    .dataframe tbody tr th {\n",
       "        vertical-align: top;\n",
       "    }\n",
       "\n",
       "    .dataframe thead th {\n",
       "        text-align: right;\n",
       "    }\n",
       "</style>\n",
       "<table border=\"1\" class=\"dataframe\">\n",
       "  <thead>\n",
       "    <tr style=\"text-align: right;\">\n",
       "      <th></th>\n",
       "      <th>summary</th>\n",
       "      <th>count</th>\n",
       "    </tr>\n",
       "  </thead>\n",
       "  <tbody>\n",
       "    <tr>\n",
       "      <th>0</th>\n",
       "      <td>count</td>\n",
       "      <td>6</td>\n",
       "    </tr>\n",
       "    <tr>\n",
       "      <th>1</th>\n",
       "      <td>mean</td>\n",
       "      <td>3332.8333333333335</td>\n",
       "    </tr>\n",
       "    <tr>\n",
       "      <th>2</th>\n",
       "      <td>stddev</td>\n",
       "      <td>2400.605791600667</td>\n",
       "    </tr>\n",
       "    <tr>\n",
       "      <th>3</th>\n",
       "      <td>min</td>\n",
       "      <td>719</td>\n",
       "    </tr>\n",
       "    <tr>\n",
       "      <th>4</th>\n",
       "      <td>25%</td>\n",
       "      <td>1641</td>\n",
       "    </tr>\n",
       "    <tr>\n",
       "      <th>5</th>\n",
       "      <td>50%</td>\n",
       "      <td>2373</td>\n",
       "    </tr>\n",
       "    <tr>\n",
       "      <th>6</th>\n",
       "      <td>75%</td>\n",
       "      <td>5794</td>\n",
       "    </tr>\n",
       "    <tr>\n",
       "      <th>7</th>\n",
       "      <td>max</td>\n",
       "      <td>6761</td>\n",
       "    </tr>\n",
       "  </tbody>\n",
       "</table>\n",
       "</div>"
      ]
     },
     "metadata": {
      "application/vnd.databricks.v1+output": {
       "addedWidgets": {},
       "arguments": {},
       "data": "<div>\n<style scoped>\n    .dataframe tbody tr th:only-of-type {\n        vertical-align: middle;\n    }\n\n    .dataframe tbody tr th {\n        vertical-align: top;\n    }\n\n    .dataframe thead th {\n        text-align: right;\n    }\n</style>\n<table border=\"1\" class=\"dataframe\">\n  <thead>\n    <tr style=\"text-align: right;\">\n      <th></th>\n      <th>summary</th>\n      <th>count</th>\n    </tr>\n  </thead>\n  <tbody>\n    <tr>\n      <th>0</th>\n      <td>count</td>\n      <td>6</td>\n    </tr>\n    <tr>\n      <th>1</th>\n      <td>mean</td>\n      <td>3332.8333333333335</td>\n    </tr>\n    <tr>\n      <th>2</th>\n      <td>stddev</td>\n      <td>2400.605791600667</td>\n    </tr>\n    <tr>\n      <th>3</th>\n      <td>min</td>\n      <td>719</td>\n    </tr>\n    <tr>\n      <th>4</th>\n      <td>25%</td>\n      <td>1641</td>\n    </tr>\n    <tr>\n      <th>5</th>\n      <td>50%</td>\n      <td>2373</td>\n    </tr>\n    <tr>\n      <th>6</th>\n      <td>75%</td>\n      <td>5794</td>\n    </tr>\n    <tr>\n      <th>7</th>\n      <td>max</td>\n      <td>6761</td>\n    </tr>\n  </tbody>\n</table>\n</div>",
       "datasetInfos": [],
       "metadata": {},
       "removedWidgets": [],
       "textData": null,
       "type": "htmlSandbox"
      }
     },
     "output_type": "display_data"
    }
   ],
   "source": [
    "agg_labels.select(\"count\").summary().toPandas()"
   ]
  },
  {
   "cell_type": "markdown",
   "metadata": {
    "application/vnd.databricks.v1+cell": {
     "inputWidgets": {},
     "nuid": "3655e4dd-9f15-49f6-8fd3-eb449839a10f",
     "showTitle": false,
     "title": ""
    }
   },
   "source": [
    "We apply the same operation on the features attribute to highlight the unique words in order to build a vocabulary for our model."
   ]
  },
  {
   "cell_type": "code",
   "execution_count": null,
   "metadata": {
    "application/vnd.databricks.v1+cell": {
     "inputWidgets": {},
     "nuid": "639be627-923d-4b6a-acb0-4ec220efd292",
     "showTitle": false,
     "title": ""
    }
   },
   "outputs": [
    {
     "data": {
      "text/html": [
       "<style scoped>\n",
       "  .ansiout {\n",
       "    display: block;\n",
       "    unicode-bidi: embed;\n",
       "    white-space: pre-wrap;\n",
       "    word-wrap: break-word;\n",
       "    word-break: break-all;\n",
       "    font-family: \"Source Code Pro\", \"Menlo\", monospace;;\n",
       "    font-size: 13px;\n",
       "    color: #555;\n",
       "    margin-left: 4px;\n",
       "    line-height: 19px;\n",
       "  }\n",
       "</style>\n",
       "<div class=\"ansiout\">Out[10]: </div>"
      ]
     },
     "metadata": {
      "application/vnd.databricks.v1+output": {
       "addedWidgets": {},
       "arguments": {},
       "data": "<div class=\"ansiout\">Out[10]: </div>",
       "datasetInfos": [],
       "metadata": {},
       "removedWidgets": [],
       "type": "html"
      }
     },
     "output_type": "display_data"
    },
    {
     "data": {
      "text/html": [
       "<div>\n",
       "<style scoped>\n",
       "    .dataframe tbody tr th:only-of-type {\n",
       "        vertical-align: middle;\n",
       "    }\n",
       "\n",
       "    .dataframe tbody tr th {\n",
       "        vertical-align: top;\n",
       "    }\n",
       "\n",
       "    .dataframe thead th {\n",
       "        text-align: right;\n",
       "    }\n",
       "</style>\n",
       "<table border=\"1\" class=\"dataframe\">\n",
       "  <thead>\n",
       "    <tr style=\"text-align: right;\">\n",
       "      <th></th>\n",
       "      <th>word</th>\n",
       "      <th>count</th>\n",
       "    </tr>\n",
       "  </thead>\n",
       "  <tbody>\n",
       "    <tr>\n",
       "      <th>0</th>\n",
       "      <td>i</td>\n",
       "      <td>32241</td>\n",
       "    </tr>\n",
       "    <tr>\n",
       "      <th>1</th>\n",
       "      <td>feel</td>\n",
       "      <td>13937</td>\n",
       "    </tr>\n",
       "    <tr>\n",
       "      <th>2</th>\n",
       "      <td>and</td>\n",
       "      <td>11995</td>\n",
       "    </tr>\n",
       "    <tr>\n",
       "      <th>3</th>\n",
       "      <td>to</td>\n",
       "      <td>11208</td>\n",
       "    </tr>\n",
       "    <tr>\n",
       "      <th>4</th>\n",
       "      <td>the</td>\n",
       "      <td>10462</td>\n",
       "    </tr>\n",
       "    <tr>\n",
       "      <th>...</th>\n",
       "      <td>...</td>\n",
       "      <td>...</td>\n",
       "    </tr>\n",
       "    <tr>\n",
       "      <th>17091</th>\n",
       "      <td>vaccine</td>\n",
       "      <td>1</td>\n",
       "    </tr>\n",
       "    <tr>\n",
       "      <th>17092</th>\n",
       "      <td>internalize</td>\n",
       "      <td>1</td>\n",
       "    </tr>\n",
       "    <tr>\n",
       "      <th>17093</th>\n",
       "      <td>textbook</td>\n",
       "      <td>1</td>\n",
       "    </tr>\n",
       "    <tr>\n",
       "      <th>17094</th>\n",
       "      <td>dams</td>\n",
       "      <td>1</td>\n",
       "    </tr>\n",
       "    <tr>\n",
       "      <th>17095</th>\n",
       "      <td>inclusion</td>\n",
       "      <td>1</td>\n",
       "    </tr>\n",
       "  </tbody>\n",
       "</table>\n",
       "<p>17096 rows × 2 columns</p>\n",
       "</div>"
      ]
     },
     "metadata": {
      "application/vnd.databricks.v1+output": {
       "addedWidgets": {},
       "arguments": {},
       "data": "<div>\n<style scoped>\n    .dataframe tbody tr th:only-of-type {\n        vertical-align: middle;\n    }\n\n    .dataframe tbody tr th {\n        vertical-align: top;\n    }\n\n    .dataframe thead th {\n        text-align: right;\n    }\n</style>\n<table border=\"1\" class=\"dataframe\">\n  <thead>\n    <tr style=\"text-align: right;\">\n      <th></th>\n      <th>word</th>\n      <th>count</th>\n    </tr>\n  </thead>\n  <tbody>\n    <tr>\n      <th>0</th>\n      <td>i</td>\n      <td>32241</td>\n    </tr>\n    <tr>\n      <th>1</th>\n      <td>feel</td>\n      <td>13937</td>\n    </tr>\n    <tr>\n      <th>2</th>\n      <td>and</td>\n      <td>11995</td>\n    </tr>\n    <tr>\n      <th>3</th>\n      <td>to</td>\n      <td>11208</td>\n    </tr>\n    <tr>\n      <th>4</th>\n      <td>the</td>\n      <td>10462</td>\n    </tr>\n    <tr>\n      <th>...</th>\n      <td>...</td>\n      <td>...</td>\n    </tr>\n    <tr>\n      <th>17091</th>\n      <td>vaccine</td>\n      <td>1</td>\n    </tr>\n    <tr>\n      <th>17092</th>\n      <td>internalize</td>\n      <td>1</td>\n    </tr>\n    <tr>\n      <th>17093</th>\n      <td>textbook</td>\n      <td>1</td>\n    </tr>\n    <tr>\n      <th>17094</th>\n      <td>dams</td>\n      <td>1</td>\n    </tr>\n    <tr>\n      <th>17095</th>\n      <td>inclusion</td>\n      <td>1</td>\n    </tr>\n  </tbody>\n</table>\n<p>17096 rows × 2 columns</p>\n</div>",
       "datasetInfos": [],
       "metadata": {},
       "removedWidgets": [],
       "textData": null,
       "type": "htmlSandbox"
      }
     },
     "output_type": "display_data"
    }
   ],
   "source": [
    "split_sentence_udf = udf(lambda x: x.split(\" \"), ArrayType(StringType()))\n",
    "\n",
    "agg_words = dataset.select(explode(split_sentence_udf(col(\"comment\"))))\\\n",
    "                            .rdd.map(lambda word: (word[0], 1))\\\n",
    "                            .reduceByKey(lambda x, y: x + y)\\\n",
    "                            .toDF([\"word\", \"count\"])\n",
    "\n",
    "agg_words.orderBy(col(\"count\").desc()).toPandas()"
   ]
  },
  {
   "cell_type": "markdown",
   "metadata": {
    "application/vnd.databricks.v1+cell": {
     "inputWidgets": {},
     "nuid": "07d9ce09-b3ff-4ca9-aa82-ed82a37a77d7",
     "showTitle": false,
     "title": ""
    }
   },
   "source": [
    "Repeat the same **EDA** procedure on `word` count attribute."
   ]
  },
  {
   "cell_type": "code",
   "execution_count": null,
   "metadata": {
    "application/vnd.databricks.v1+cell": {
     "inputWidgets": {},
     "nuid": "72304035-ba19-4136-83ef-cb797a138991",
     "showTitle": false,
     "title": ""
    }
   },
   "outputs": [
    {
     "data": {
      "text/html": [
       "<style scoped>\n",
       "  .ansiout {\n",
       "    display: block;\n",
       "    unicode-bidi: embed;\n",
       "    white-space: pre-wrap;\n",
       "    word-wrap: break-word;\n",
       "    word-break: break-all;\n",
       "    font-family: \"Source Code Pro\", \"Menlo\", monospace;;\n",
       "    font-size: 13px;\n",
       "    color: #555;\n",
       "    margin-left: 4px;\n",
       "    line-height: 19px;\n",
       "  }\n",
       "</style>\n",
       "<div class=\"ansiout\">Out[11]: </div>"
      ]
     },
     "metadata": {
      "application/vnd.databricks.v1+output": {
       "addedWidgets": {},
       "arguments": {},
       "data": "<div class=\"ansiout\">Out[11]: </div>",
       "datasetInfos": [],
       "metadata": {},
       "removedWidgets": [],
       "type": "html"
      }
     },
     "output_type": "display_data"
    },
    {
     "data": {
      "text/html": [
       "<div>\n",
       "<style scoped>\n",
       "    .dataframe tbody tr th:only-of-type {\n",
       "        vertical-align: middle;\n",
       "    }\n",
       "\n",
       "    .dataframe tbody tr th {\n",
       "        vertical-align: top;\n",
       "    }\n",
       "\n",
       "    .dataframe thead th {\n",
       "        text-align: right;\n",
       "    }\n",
       "</style>\n",
       "<table border=\"1\" class=\"dataframe\">\n",
       "  <thead>\n",
       "    <tr style=\"text-align: right;\">\n",
       "      <th></th>\n",
       "      <th>summary</th>\n",
       "      <th>count</th>\n",
       "    </tr>\n",
       "  </thead>\n",
       "  <tbody>\n",
       "    <tr>\n",
       "      <th>0</th>\n",
       "      <td>count</td>\n",
       "      <td>17096</td>\n",
       "    </tr>\n",
       "    <tr>\n",
       "      <th>1</th>\n",
       "      <td>mean</td>\n",
       "      <td>22.38365699578849</td>\n",
       "    </tr>\n",
       "    <tr>\n",
       "      <th>2</th>\n",
       "      <td>stddev</td>\n",
       "      <td>346.3475707348748</td>\n",
       "    </tr>\n",
       "    <tr>\n",
       "      <th>3</th>\n",
       "      <td>min</td>\n",
       "      <td>1</td>\n",
       "    </tr>\n",
       "    <tr>\n",
       "      <th>4</th>\n",
       "      <td>25%</td>\n",
       "      <td>1</td>\n",
       "    </tr>\n",
       "    <tr>\n",
       "      <th>5</th>\n",
       "      <td>50%</td>\n",
       "      <td>1</td>\n",
       "    </tr>\n",
       "    <tr>\n",
       "      <th>6</th>\n",
       "      <td>75%</td>\n",
       "      <td>4</td>\n",
       "    </tr>\n",
       "    <tr>\n",
       "      <th>7</th>\n",
       "      <td>max</td>\n",
       "      <td>32241</td>\n",
       "    </tr>\n",
       "  </tbody>\n",
       "</table>\n",
       "</div>"
      ]
     },
     "metadata": {
      "application/vnd.databricks.v1+output": {
       "addedWidgets": {},
       "arguments": {},
       "data": "<div>\n<style scoped>\n    .dataframe tbody tr th:only-of-type {\n        vertical-align: middle;\n    }\n\n    .dataframe tbody tr th {\n        vertical-align: top;\n    }\n\n    .dataframe thead th {\n        text-align: right;\n    }\n</style>\n<table border=\"1\" class=\"dataframe\">\n  <thead>\n    <tr style=\"text-align: right;\">\n      <th></th>\n      <th>summary</th>\n      <th>count</th>\n    </tr>\n  </thead>\n  <tbody>\n    <tr>\n      <th>0</th>\n      <td>count</td>\n      <td>17096</td>\n    </tr>\n    <tr>\n      <th>1</th>\n      <td>mean</td>\n      <td>22.38365699578849</td>\n    </tr>\n    <tr>\n      <th>2</th>\n      <td>stddev</td>\n      <td>346.3475707348748</td>\n    </tr>\n    <tr>\n      <th>3</th>\n      <td>min</td>\n      <td>1</td>\n    </tr>\n    <tr>\n      <th>4</th>\n      <td>25%</td>\n      <td>1</td>\n    </tr>\n    <tr>\n      <th>5</th>\n      <td>50%</td>\n      <td>1</td>\n    </tr>\n    <tr>\n      <th>6</th>\n      <td>75%</td>\n      <td>4</td>\n    </tr>\n    <tr>\n      <th>7</th>\n      <td>max</td>\n      <td>32241</td>\n    </tr>\n  </tbody>\n</table>\n</div>",
       "datasetInfos": [],
       "metadata": {},
       "removedWidgets": [],
       "textData": null,
       "type": "htmlSandbox"
      }
     },
     "output_type": "display_data"
    }
   ],
   "source": [
    "agg_words.select(\"count\").summary().toPandas()"
   ]
  },
  {
   "cell_type": "markdown",
   "metadata": {
    "application/vnd.databricks.v1+cell": {
     "inputWidgets": {},
     "nuid": "ec7a75fd-dfcc-4b1a-b353-16e4812d40e6",
     "showTitle": false,
     "title": ""
    }
   },
   "source": [
    "Let's visualisate the word count distribution on the plot. It's important to remember, that one of the main problems in the **natural language processing** is the unstructured input data. For example, if you use the **raw** data and receive tokens by splitting with the **SPACE** symbol, you can get invalid tokens such as *3.5?*, *[Flip]*, etc. Before the analysis of characteristics it is necessary to carry out preliminary processing of the received words, for example:\n",
    "  - Remove duplicate tokens;\n",
    "  - Delete residual words (STOPWORDS);\n",
    "  - Normalize words (convert all letters in the token to uppercase);"
   ]
  },
  {
   "cell_type": "code",
   "execution_count": null,
   "metadata": {
    "application/vnd.databricks.v1+cell": {
     "inputWidgets": {},
     "nuid": "b3cc6143-6475-459e-bed1-677627fd661d",
     "showTitle": false,
     "title": ""
    }
   },
   "outputs": [
    {
     "data": {
      "image/png": "[encoded data removed]"
     },
     "metadata": {
      "application/vnd.databricks.v1+output": {
       "addedWidgets": {},
       "arguments": {},
       "data": "/plots/30dbb7e3-b1ce-4677-a6fb-872112707e9b.png",
       "datasetInfos": [],
       "metadata": {},
       "removedWidgets": [],
       "type": "image"
      }
     },
     "output_type": "display_data"
    }
   ],
   "source": [
    "import matplotlib.pyplot as plt\n",
    "\n",
    "words_distribution = agg_words.orderBy(col(\"count\").desc()).limit(100).toPandas()\n",
    "\n",
    "fig, ax = plt.subplots(1, 1, figsize=(20, 9))\n",
    "\n",
    "ax.plot(words_distribution[\"word\"], words_distribution[\"count\"])\n",
    "ax.set_title(\"World count distribution\")\n",
    "\n",
    "plt.xticks(rotation=70)\n",
    "plt.show()"
   ]
  },
  {
   "cell_type": "markdown",
   "metadata": {
    "application/vnd.databricks.v1+cell": {
     "inputWidgets": {},
     "nuid": "66f8557c-5c35-47d0-b807-9ec0b3566766",
     "showTitle": false,
     "title": ""
    }
   },
   "source": [
    "Dataset clean the dataset by droping duplicates and records with missing fields (with values `NaN`)."
   ]
  },
  {
   "cell_type": "code",
   "execution_count": null,
   "metadata": {
    "application/vnd.databricks.v1+cell": {
     "inputWidgets": {},
     "nuid": "b800bcf8-3098-4c26-9a1f-24f83c5ceda6",
     "showTitle": false,
     "title": ""
    }
   },
   "outputs": [
    {
     "data": {
      "text/html": [
       "<style scoped>\n",
       "  .ansiout {\n",
       "    display: block;\n",
       "    unicode-bidi: embed;\n",
       "    white-space: pre-wrap;\n",
       "    word-wrap: break-word;\n",
       "    word-break: break-all;\n",
       "    font-family: \"Source Code Pro\", \"Menlo\", monospace;;\n",
       "    font-size: 13px;\n",
       "    color: #555;\n",
       "    margin-left: 4px;\n",
       "    line-height: 19px;\n",
       "  }\n",
       "</style>\n",
       "<div class=\"ansiout\">Out[17]: 19996</div>"
      ]
     },
     "metadata": {
      "application/vnd.databricks.v1+output": {
       "addedWidgets": {},
       "arguments": {},
       "data": "<div class=\"ansiout\">Out[17]: 19996</div>",
       "datasetInfos": [],
       "metadata": {},
       "removedWidgets": [],
       "type": "html"
      }
     },
     "output_type": "display_data"
    }
   ],
   "source": [
    "dataset = dataset.dropDuplicates([\"comment\", \"emotion\"])\n",
    "dataset = dataset.dropna(thresh=2, subset=(\"comment\", \"emotion\"))\n",
    "\n",
    "dataset.count()"
   ]
  },
  {
   "cell_type": "markdown",
   "metadata": {
    "application/vnd.databricks.v1+cell": {
     "inputWidgets": {},
     "nuid": "4d749081-1f20-44f2-8856-cecc70b24668",
     "showTitle": false,
     "title": ""
    }
   },
   "source": [
    "Now we spilt dataset on training subset for fitting the model and testing dataset to evaluate the metrics. Here is used the classical approach with splitting by `80/20` ratio."
   ]
  },
  {
   "cell_type": "code",
   "execution_count": null,
   "metadata": {
    "application/vnd.databricks.v1+cell": {
     "inputWidgets": {},
     "nuid": "a6bbcf66-ff23-45ee-9fca-13ba6e832b8c",
     "showTitle": false,
     "title": ""
    }
   },
   "outputs": [
    {
     "data": {
      "text/html": [
       "<style scoped>\n",
       "  .ansiout {\n",
       "    display: block;\n",
       "    unicode-bidi: embed;\n",
       "    white-space: pre-wrap;\n",
       "    word-wrap: break-word;\n",
       "    word-break: break-all;\n",
       "    font-family: \"Source Code Pro\", \"Menlo\", monospace;;\n",
       "    font-size: 13px;\n",
       "    color: #555;\n",
       "    margin-left: 4px;\n",
       "    line-height: 19px;\n",
       "  }\n",
       "</style>\n",
       "<div class=\"ansiout\">Out[18]: </div>"
      ]
     },
     "metadata": {
      "application/vnd.databricks.v1+output": {
       "addedWidgets": {},
       "arguments": {},
       "data": "<div class=\"ansiout\">Out[18]: </div>",
       "datasetInfos": [],
       "metadata": {},
       "removedWidgets": [],
       "type": "html"
      }
     },
     "output_type": "display_data"
    },
    {
     "data": {
      "text/html": [
       "<div>\n",
       "<style scoped>\n",
       "    .dataframe tbody tr th:only-of-type {\n",
       "        vertical-align: middle;\n",
       "    }\n",
       "\n",
       "    .dataframe tbody tr th {\n",
       "        vertical-align: top;\n",
       "    }\n",
       "\n",
       "    .dataframe thead th {\n",
       "        text-align: right;\n",
       "    }\n",
       "</style>\n",
       "<table border=\"1\" class=\"dataframe\">\n",
       "  <thead>\n",
       "    <tr style=\"text-align: right;\">\n",
       "      <th></th>\n",
       "      <th>comment</th>\n",
       "      <th>emotion</th>\n",
       "    </tr>\n",
       "  </thead>\n",
       "  <tbody>\n",
       "    <tr>\n",
       "      <th>0</th>\n",
       "      <td>a boyfriend with whom i split up with came ove...</td>\n",
       "      <td>anger</td>\n",
       "    </tr>\n",
       "    <tr>\n",
       "      <th>1</th>\n",
       "      <td>a certain friend tried to push me off a seat i...</td>\n",
       "      <td>anger</td>\n",
       "    </tr>\n",
       "    <tr>\n",
       "      <th>2</th>\n",
       "      <td>a father of children killed in an accident</td>\n",
       "      <td>sadness</td>\n",
       "    </tr>\n",
       "    <tr>\n",
       "      <th>3</th>\n",
       "      <td>a few monthe ago</td>\n",
       "      <td>anger</td>\n",
       "    </tr>\n",
       "    <tr>\n",
       "      <th>4</th>\n",
       "      <td>a friend of mine suggested that i become a fil...</td>\n",
       "      <td>joy</td>\n",
       "    </tr>\n",
       "    <tr>\n",
       "      <th>...</th>\n",
       "      <td>...</td>\n",
       "      <td>...</td>\n",
       "    </tr>\n",
       "    <tr>\n",
       "      <th>16048</th>\n",
       "      <td>when they phoned me from greatbritain to tell ...</td>\n",
       "      <td>joy</td>\n",
       "    </tr>\n",
       "    <tr>\n",
       "      <th>16049</th>\n",
       "      <td>when we rearranged furniture in our flat and g...</td>\n",
       "      <td>anger</td>\n",
       "    </tr>\n",
       "    <tr>\n",
       "      <th>16050</th>\n",
       "      <td>when we stayed in vienna with our class</td>\n",
       "      <td>fear</td>\n",
       "    </tr>\n",
       "    <tr>\n",
       "      <th>16051</th>\n",
       "      <td>when we were able to afford a new sofa a leath...</td>\n",
       "      <td>joy</td>\n",
       "    </tr>\n",
       "    <tr>\n",
       "      <th>16052</th>\n",
       "      <td>whenever i put myself in others shoes and try ...</td>\n",
       "      <td>anger</td>\n",
       "    </tr>\n",
       "  </tbody>\n",
       "</table>\n",
       "<p>16053 rows × 2 columns</p>\n",
       "</div>"
      ]
     },
     "metadata": {
      "application/vnd.databricks.v1+output": {
       "addedWidgets": {},
       "arguments": {},
       "data": "<div>\n<style scoped>\n    .dataframe tbody tr th:only-of-type {\n        vertical-align: middle;\n    }\n\n    .dataframe tbody tr th {\n        vertical-align: top;\n    }\n\n    .dataframe thead th {\n        text-align: right;\n    }\n</style>\n<table border=\"1\" class=\"dataframe\">\n  <thead>\n    <tr style=\"text-align: right;\">\n      <th></th>\n      <th>comment</th>\n      <th>emotion</th>\n    </tr>\n  </thead>\n  <tbody>\n    <tr>\n      <th>0</th>\n      <td>a boyfriend with whom i split up with came ove...</td>\n      <td>anger</td>\n    </tr>\n    <tr>\n      <th>1</th>\n      <td>a certain friend tried to push me off a seat i...</td>\n      <td>anger</td>\n    </tr>\n    <tr>\n      <th>2</th>\n      <td>a father of children killed in an accident</td>\n      <td>sadness</td>\n    </tr>\n    <tr>\n      <th>3</th>\n      <td>a few monthe ago</td>\n      <td>anger</td>\n    </tr>\n    <tr>\n      <th>4</th>\n      <td>a friend of mine suggested that i become a fil...</td>\n      <td>joy</td>\n    </tr>\n    <tr>\n      <th>...</th>\n      <td>...</td>\n      <td>...</td>\n    </tr>\n    <tr>\n      <th>16048</th>\n      <td>when they phoned me from greatbritain to tell ...</td>\n      <td>joy</td>\n    </tr>\n    <tr>\n      <th>16049</th>\n      <td>when we rearranged furniture in our flat and g...</td>\n      <td>anger</td>\n    </tr>\n    <tr>\n      <th>16050</th>\n      <td>when we stayed in vienna with our class</td>\n      <td>fear</td>\n    </tr>\n    <tr>\n      <th>16051</th>\n      <td>when we were able to afford a new sofa a leath...</td>\n      <td>joy</td>\n    </tr>\n    <tr>\n      <th>16052</th>\n      <td>whenever i put myself in others shoes and try ...</td>\n      <td>anger</td>\n    </tr>\n  </tbody>\n</table>\n<p>16053 rows × 2 columns</p>\n</div>",
       "datasetInfos": [],
       "metadata": {},
       "removedWidgets": [],
       "textData": null,
       "type": "htmlSandbox"
      }
     },
     "output_type": "display_data"
    }
   ],
   "source": [
    "train, test = dataset.randomSplit([0.8, 0.2])\n",
    "\n",
    "train_df, test_df = train.toPandas(), test.toPandas()\n",
    "\n",
    "train_df"
   ]
  },
  {
   "cell_type": "markdown",
   "metadata": {},
   "source": [
    "The preview of the test subset"
   ]
  },
  {
   "cell_type": "code",
   "execution_count": null,
   "metadata": {
    "application/vnd.databricks.v1+cell": {
     "inputWidgets": {},
     "nuid": "6df6494c-a75a-4c90-b473-522619c1067f",
     "showTitle": false,
     "title": ""
    }
   },
   "outputs": [
    {
     "data": {
      "text/html": [
       "<style scoped>\n",
       "  .ansiout {\n",
       "    display: block;\n",
       "    unicode-bidi: embed;\n",
       "    white-space: pre-wrap;\n",
       "    word-wrap: break-word;\n",
       "    word-break: break-all;\n",
       "    font-family: \"Source Code Pro\", \"Menlo\", monospace;;\n",
       "    font-size: 13px;\n",
       "    color: #555;\n",
       "    margin-left: 4px;\n",
       "    line-height: 19px;\n",
       "  }\n",
       "</style>\n",
       "<div class=\"ansiout\">Out[19]: </div>"
      ]
     },
     "metadata": {
      "application/vnd.databricks.v1+output": {
       "addedWidgets": {},
       "arguments": {},
       "data": "<div class=\"ansiout\">Out[19]: </div>",
       "datasetInfos": [],
       "metadata": {},
       "removedWidgets": [],
       "type": "html"
      }
     },
     "output_type": "display_data"
    },
    {
     "data": {
      "text/html": [
       "<div>\n",
       "<style scoped>\n",
       "    .dataframe tbody tr th:only-of-type {\n",
       "        vertical-align: middle;\n",
       "    }\n",
       "\n",
       "    .dataframe tbody tr th {\n",
       "        vertical-align: top;\n",
       "    }\n",
       "\n",
       "    .dataframe thead th {\n",
       "        text-align: right;\n",
       "    }\n",
       "</style>\n",
       "<table border=\"1\" class=\"dataframe\">\n",
       "  <thead>\n",
       "    <tr style=\"text-align: right;\">\n",
       "      <th></th>\n",
       "      <th>comment</th>\n",
       "      <th>emotion</th>\n",
       "    </tr>\n",
       "  </thead>\n",
       "  <tbody>\n",
       "    <tr>\n",
       "      <th>0</th>\n",
       "      <td>a group of youngsters dressed in fads talked f...</td>\n",
       "      <td>anger</td>\n",
       "    </tr>\n",
       "    <tr>\n",
       "      <th>1</th>\n",
       "      <td>a teacher was very blunt in his relation to a ...</td>\n",
       "      <td>anger</td>\n",
       "    </tr>\n",
       "    <tr>\n",
       "      <th>2</th>\n",
       "      <td>after my boyfriend and i had separated</td>\n",
       "      <td>sadness</td>\n",
       "    </tr>\n",
       "    <tr>\n",
       "      <th>3</th>\n",
       "      <td>always when i am well succeded</td>\n",
       "      <td>joy</td>\n",
       "    </tr>\n",
       "    <tr>\n",
       "      <th>4</th>\n",
       "      <td>at a party i met a girl who drew me to her</td>\n",
       "      <td>anger</td>\n",
       "    </tr>\n",
       "    <tr>\n",
       "      <th>...</th>\n",
       "      <td>...</td>\n",
       "      <td>...</td>\n",
       "    </tr>\n",
       "    <tr>\n",
       "      <th>3938</th>\n",
       "      <td>when my mother kept me in leadingstrings</td>\n",
       "      <td>anger</td>\n",
       "    </tr>\n",
       "    <tr>\n",
       "      <th>3939</th>\n",
       "      <td>when my mother was seriously ill and had to be...</td>\n",
       "      <td>fear</td>\n",
       "    </tr>\n",
       "    <tr>\n",
       "      <th>3940</th>\n",
       "      <td>when people harrass me i feel oppressed by the...</td>\n",
       "      <td>anger</td>\n",
       "    </tr>\n",
       "    <tr>\n",
       "      <th>3941</th>\n",
       "      <td>while cycling in the country</td>\n",
       "      <td>fear</td>\n",
       "    </tr>\n",
       "    <tr>\n",
       "      <th>3942</th>\n",
       "      <td>winning a rowing race at a karapiro regatta wi...</td>\n",
       "      <td>joy</td>\n",
       "    </tr>\n",
       "  </tbody>\n",
       "</table>\n",
       "<p>3943 rows × 2 columns</p>\n",
       "</div>"
      ]
     },
     "metadata": {
      "application/vnd.databricks.v1+output": {
       "addedWidgets": {},
       "arguments": {},
       "data": "<div>\n<style scoped>\n    .dataframe tbody tr th:only-of-type {\n        vertical-align: middle;\n    }\n\n    .dataframe tbody tr th {\n        vertical-align: top;\n    }\n\n    .dataframe thead th {\n        text-align: right;\n    }\n</style>\n<table border=\"1\" class=\"dataframe\">\n  <thead>\n    <tr style=\"text-align: right;\">\n      <th></th>\n      <th>comment</th>\n      <th>emotion</th>\n    </tr>\n  </thead>\n  <tbody>\n    <tr>\n      <th>0</th>\n      <td>a group of youngsters dressed in fads talked f...</td>\n      <td>anger</td>\n    </tr>\n    <tr>\n      <th>1</th>\n      <td>a teacher was very blunt in his relation to a ...</td>\n      <td>anger</td>\n    </tr>\n    <tr>\n      <th>2</th>\n      <td>after my boyfriend and i had separated</td>\n      <td>sadness</td>\n    </tr>\n    <tr>\n      <th>3</th>\n      <td>always when i am well succeded</td>\n      <td>joy</td>\n    </tr>\n    <tr>\n      <th>4</th>\n      <td>at a party i met a girl who drew me to her</td>\n      <td>anger</td>\n    </tr>\n    <tr>\n      <th>...</th>\n      <td>...</td>\n      <td>...</td>\n    </tr>\n    <tr>\n      <th>3938</th>\n      <td>when my mother kept me in leadingstrings</td>\n      <td>anger</td>\n    </tr>\n    <tr>\n      <th>3939</th>\n      <td>when my mother was seriously ill and had to be...</td>\n      <td>fear</td>\n    </tr>\n    <tr>\n      <th>3940</th>\n      <td>when people harrass me i feel oppressed by the...</td>\n      <td>anger</td>\n    </tr>\n    <tr>\n      <th>3941</th>\n      <td>while cycling in the country</td>\n      <td>fear</td>\n    </tr>\n    <tr>\n      <th>3942</th>\n      <td>winning a rowing race at a karapiro regatta wi...</td>\n      <td>joy</td>\n    </tr>\n  </tbody>\n</table>\n<p>3943 rows × 2 columns</p>\n</div>",
       "datasetInfos": [],
       "metadata": {},
       "removedWidgets": [],
       "textData": null,
       "type": "htmlSandbox"
      }
     },
     "output_type": "display_data"
    }
   ],
   "source": [
    "test_df"
   ]
  },
  {
   "cell_type": "markdown",
   "metadata": {},
   "source": [
    "To train and test models we need to convert data from dataframe type to the `Numpy` tensor respresentation. "
   ]
  },
  {
   "cell_type": "code",
   "execution_count": null,
   "metadata": {
    "application/vnd.databricks.v1+cell": {
     "inputWidgets": {},
     "nuid": "f2c422b9-9b71-4caa-bb37-5a8e71575e97",
     "showTitle": false,
     "title": ""
    }
   },
   "outputs": [
    {
     "data": {
      "text/html": [
       "<style scoped>\n",
       "  .ansiout {\n",
       "    display: block;\n",
       "    unicode-bidi: embed;\n",
       "    white-space: pre-wrap;\n",
       "    word-wrap: break-word;\n",
       "    word-break: break-all;\n",
       "    font-family: \"Source Code Pro\", \"Menlo\", monospace;;\n",
       "    font-size: 13px;\n",
       "    color: #555;\n",
       "    margin-left: 4px;\n",
       "    line-height: 19px;\n",
       "  }\n",
       "</style>\n",
       "<div class=\"ansiout\"></div>"
      ]
     },
     "metadata": {
      "application/vnd.databricks.v1+output": {
       "addedWidgets": {},
       "arguments": {},
       "data": "<div class=\"ansiout\"></div>",
       "datasetInfos": [],
       "metadata": {},
       "removedWidgets": [],
       "type": "html"
      }
     },
     "output_type": "display_data"
    }
   ],
   "source": [
    "X_train, y_train = train_df['comment'].values, train_df['emotion'].values\n",
    "X_val, y_val = test_df['comment'].values, test_df['emotion'].values"
   ]
  },
  {
   "cell_type": "markdown",
   "metadata": {
    "application/vnd.databricks.v1+cell": {
     "inputWidgets": {},
     "nuid": "3f34ee3c-4051-45ca-8d13-25bed0c4daa0",
     "showTitle": false,
     "title": ""
    }
   },
   "source": [
    "## Vectorization of text\n",
    "\n",
    "Algorithms work only with numeric data and cannot perceive the text in its original form. The main interpretation of the text is its vectorization: comparison to each token (word, letter, etc.) of the corresponding vector from the space $ X \\subset \\mathbb {R} \\times \\mathbb {R} $. The simplest (but reliable for classification problems) text vectorization algorithm is *Bag of words* representation, which is as follows:\n",
    " 1) Find N of the most popular words in the training dataset and number them, so we got a dictionary for learning the model;\n",
    " 2) For each token in the dictionary to compare the zero-vector of dimension $ N $;\n",
    " 3) For each vector we put 1 in the position corresponding to the index of the token in the dictionary;\n",
    " \n",
    "Consider an example for a dictionary with N = 4 with tokens `['hi', 'you', 'me', 'are']`. Let's build a dictionary on the first step of the algorithm `{'hi': 0, 'you': 1, 'me': 2, 'are': 3}`. Let's have the text that needs to be converted into a vector: `hi how are you`. Let's carry out vectorization by algorithm:\n",
    " 1) Put the zero-vector `[0, 0, 0, 0]`;\n",
    " 2) Go through each token in the text and if the token is in the dictionary, then add 1 to the index position:\n",
    " \n",
    "```\n",
    "'hi': [1, 0, 0, 0]\n",
    "'how': [1, 0, 0, 0] # token 'how' is not in the dictionary\n",
    "'are': [1, 0, 0, 1]\n",
    "'you': [1, 1, 0, 1]\n",
    "```\n",
    "\n",
    "Received the following vector: `[1, 1, 0, 1]`\n",
    "\n",
    "It is worth noting that this metric does not take into account *weight* values of tokens relative to the context (input sentence). To do this, use the vector characteristic $ tfidf (t, d, D) = tf(t, d) \\cdot idf(t, D) $. *TF-IDF* is a statistical indicator used to assess the importance of words in the context of a document that is part of a collection of documents or corpus. The weight (significance) of a word is proportional to the number of uses of that word in the document, and inversely proportional to the frequency of use of the word in other documents of the collection.\n",
    "\n",
    "The indicator *TF-IDF* is used in the tasks of text analysis and information retrieval. It can be used as one of the criteria for the relevance of the document to the search query, as well as when calculating the degree of relatedness of documents in clustering.\n",
    "\n",
    "*TF* (term frequency - word frequency) - the ratio of the number of occurrences of the selected word to the total number of words in the document. That is, the importance of the word $ t_{i} $ within the selected document is assessed:\n",
    "\n",
    "> $ TF = \\frac{n_{i}} {\\sum_{k} n_{k}} $, where $ n_{i} $ is the number of occurrences of the word in the document, and in the denominator - the total number of words\n",
    "\n",
    "*IDF* (inverse document frequency) - inversion of the frequency with which the word occurs in the documents of the collection. Using IDF reduces the weight of commonly used words:\n",
    "\n",
    "> $ IDF = \\log \\frac {| D | } {| (t_{i} \\subset d_{i}) | } $, where $ | D | $ - number of collection documents, $ | (t_{i} \\subset d_{i}) | $ - the number of documents in which the word $ t_{i} $ occurs (when $ n_{i} \\neq 0 $)\n",
    "\n",
    "In other words, the exponent *TF-IDF* is the product of two factors: $ TFIDF = TF \\times IDF $. Words with a high frequency of occurrence within the document and a low frequency of use in other documents of the collection will receive more attention *TF-IDF*.\n",
    "\n",
    "Also we should highlight the fact, that **BoW** model does not take into account the word positions in the sentence, for instance, model will treat some sentences as following: \"I AM STUDENT!\" = \"AM I STUDENT?\". Although these sentences are the same for the model, for us they have different meaning, and the common solution to fix this issue is to use **N-gram** method - use multiple word as a single token. Used range for this tokenization is *1-2*."
   ]
  },
  {
   "cell_type": "code",
   "execution_count": null,
   "metadata": {
    "application/vnd.databricks.v1+cell": {
     "inputWidgets": {},
     "nuid": "8b030f88-f2c2-4bb8-9917-10e327f6964a",
     "showTitle": false,
     "title": ""
    }
   },
   "outputs": [
    {
     "data": {
      "text/html": [
       "<style scoped>\n",
       "  .ansiout {\n",
       "    display: block;\n",
       "    unicode-bidi: embed;\n",
       "    white-space: pre-wrap;\n",
       "    word-wrap: break-word;\n",
       "    word-break: break-all;\n",
       "    font-family: \"Source Code Pro\", \"Menlo\", monospace;;\n",
       "    font-size: 13px;\n",
       "    color: #555;\n",
       "    margin-left: 4px;\n",
       "    line-height: 19px;\n",
       "  }\n",
       "</style>\n",
       "<div class=\"ansiout\"></div>"
      ]
     },
     "metadata": {
      "application/vnd.databricks.v1+output": {
       "addedWidgets": {},
       "arguments": {},
       "data": "<div class=\"ansiout\"></div>",
       "datasetInfos": [],
       "metadata": {},
       "removedWidgets": [],
       "type": "html"
      }
     },
     "output_type": "display_data"
    }
   ],
   "source": [
    "from joblib import parallel_backend\n",
    "from sklearn.feature_extraction.text import TfidfVectorizer, CountVectorizer\n",
    "\n",
    "DICT_SIZE=20000\n",
    "\n",
    "tfidf_vectorizer = CountVectorizer(token_pattern=r\"(?u)\\b\\w\\w+\\b\",\n",
    "                                   analyzer='word', ngram_range=(1, 2),\n",
    "                                   max_df=0.9, max_features=DICT_SIZE)\n",
    "\n",
    "with parallel_backend('threading', n_jobs=4):\n",
    "    tfidf_vectorizer.fit(train_df['comment'].append(test_df['comment']).values)\n",
    "    X_train = tfidf_vectorizer.transform(X_train)\n",
    "    X_val = tfidf_vectorizer.transform(X_val)"
   ]
  },
  {
   "cell_type": "markdown",
   "metadata": {
    "application/vnd.databricks.v1+cell": {
     "inputWidgets": {},
     "nuid": "e3724d64-6127-4fe2-adf1-f2ce196a0a21",
     "showTitle": false,
     "title": ""
    }
   },
   "source": [
    "Summary of built vocabulary."
   ]
  },
  {
   "cell_type": "code",
   "execution_count": null,
   "metadata": {
    "application/vnd.databricks.v1+cell": {
     "inputWidgets": {},
     "nuid": "3c18fc76-ae0b-4158-854e-0a66e809ef91",
     "showTitle": false,
     "title": ""
    }
   },
   "outputs": [
    {
     "data": {
      "text/html": [
       "<style scoped>\n",
       "  .ansiout {\n",
       "    display: block;\n",
       "    unicode-bidi: embed;\n",
       "    white-space: pre-wrap;\n",
       "    word-wrap: break-word;\n",
       "    word-break: break-all;\n",
       "    font-family: \"Source Code Pro\", \"Menlo\", monospace;;\n",
       "    font-size: 13px;\n",
       "    color: #555;\n",
       "    margin-left: 4px;\n",
       "    line-height: 19px;\n",
       "  }\n",
       "</style>\n",
       "<div class=\"ansiout\">Out[22]: 20000</div>"
      ]
     },
     "metadata": {
      "application/vnd.databricks.v1+output": {
       "addedWidgets": {},
       "arguments": {},
       "data": "<div class=\"ansiout\">Out[22]: 20000</div>",
       "datasetInfos": [],
       "metadata": {},
       "removedWidgets": [],
       "type": "html"
      }
     },
     "output_type": "display_data"
    }
   ],
   "source": [
    "vocab = tfidf_vectorizer.vocabulary_\n",
    "reversed_vocab = {i:word for word,i in vocab.items()}\n",
    "\n",
    "len(vocab.keys())"
   ]
  },
  {
   "cell_type": "markdown",
   "metadata": {
    "application/vnd.databricks.v1+cell": {
     "inputWidgets": {},
     "nuid": "9914aca6-7e84-42fe-9142-5ba56fa67488",
     "showTitle": false,
     "title": ""
    }
   },
   "source": [
    "We examine the first 1000 tokens to ensure there are no redundant and meaningless ones."
   ]
  },
  {
   "cell_type": "code",
   "execution_count": null,
   "metadata": {
    "application/vnd.databricks.v1+cell": {
     "inputWidgets": {},
     "nuid": "4fa3b0c7-6181-4dd2-9542-05c6a5965fbe",
     "showTitle": false,
     "title": ""
    }
   },
   "outputs": [
    {
     "data": {
      "text/html": [
       "<style scoped>\n",
       "  .ansiout {\n",
       "    display: block;\n",
       "    unicode-bidi: embed;\n",
       "    white-space: pre-wrap;\n",
       "    word-wrap: break-word;\n",
       "    word-break: break-all;\n",
       "    font-family: \"Source Code Pro\", \"Menlo\", monospace;;\n",
       "    font-size: 13px;\n",
       "    color: #555;\n",
       "    margin-left: 4px;\n",
       "    line-height: 19px;\n",
       "  }\n",
       "</style>\n",
       "<div class=\"ansiout\">Vocaburlary: \n",
       "\n",
       "boyfriend, with, whom, split, up, came, over, to, friends, house, where, was, visiting, male, friend, in, confrontation, another, room, he, tried, find, out, if, by, my, feeling, parts, with whom, up with, over to, where was, in another, he tried, tried to, to find, find out, out if, if was, by my, my friend, by feeling, feeling my, certain, push, me, off, seat, very, violent, way, for, no, apparent, reason, it, may, be, that, excited, about, something, to push, me off, in very, very violent, way for, for no, no apparent, apparent reason, it may, may be, be that, that he, he was, excited about, about something, father, of, children, killed, an, accident, of children, in an, an accident, few, ago, mine, suggested, become, film, extra, the, idea, seemed, funny, and, reaction, rather, others, friend of, of mine, the idea, to me, me and, and my, to the, the others, gigantic, climbed, face, what, is, more, own, flat, over my, my face, face and, and what, what is, is more, more in, in my, my own, girl, entered, work, greeted, everybody, but, not, in the, work and, but not, not me, relationship, which, had, put, trust, in which, which had, put my, my trust, scene, one, man, repressed, one man, another one, study, visit, chicken, factory, after, receiving, grade, on, paper, mentioned, fear, on the, mentioned in, arriving, new, zealand, as, teenager, first, overseas, trip, change, etc, in new, new zealand, about the, the change, child, suffered, even, since, than, as child, sadness, as in, at, situation, felt, myself, neglected, at certain, school, at school, some, at the, of some, some of, of my, my friends, before, exam, getting, back, results, test, getting back, back the, the results, results of, in school, being, family, having, seen, them, years, with my, my family, not having, them for, for years, subject, unfair, treatment, working, group, boy, you, have, been, admitted, medicine, your, uncle, coming, canada, next, week, told, happy, moment, you have, have been, admitted to, school and, and your, is coming, coming back, next week, my father, told me, and it, it was, was happy, climbing, mountain, see, view, to see, day, received, score, acceptance, into, chosen, course, into my, death, grandmother, death of, from, person, loved, much, very much, discovering, good, lied, good friend, friend had, lied to, during, holiday, met, again, who, commit, suicide, she, just, left, hospital, during my, my holiday, friend who, who had, to commit, she had, had just, last, academic, year, ie, closure, during the, the last, just before, before the, the closure, weekend, home, the weekend, at home, every, time, meet, dog, has, once, bitten, every time, that has, thief, fear of, finding, am, able, student, thought, finding out, out that, that am, am not, not an, ill, seriously, anatomy, lesson, loss, close, or, relative, for the, the loss, loss of, close friend, friend or, sent, company, expense, state, plan, trip to, to another, to work, work for, for week, week at, at that, going, take, driving, going to, to take, take my, offer, do, offer to, to do, hearing, west, lot, better, china, hearing about, lot better, better than, discussion, concerning, bad, burdened, our, bad person, person for, for feeling, feeling burdened, burdened by, by our, our relationship, href, http, groggy, href http, feeling groggy, absolutely, cannot, wait, september, th, roll, around, feel, calm, suppose, waiting, cannot wait, wait for, to roll, feel calm, my waiting, love, this, skinny, doing, wonders, fabulous, love this, it is, is doing, for me, and feel, feel fabulous, accomplishment, get, physically, unhappy, life, missing, right, now, working and, and the, the feeling, feeling of, of accomplishment, get from, from it, it but, but am, unhappy with, with the, the family, family life, am missing, right now, accepted, his, apology, because, like, remorseful, how, treated, because feel, feel like, like he, remorseful for, for how, how he, he treated, treated me, accidentally, mood, jumped, then, surprised, views, lol, feel the, the mood, mood and, then what, surprised me, me was, was for, for over, so, bones, toes, hurt, walk, swear, could, aching, so bad, my toes, hurt to, to walk, could feel, feel my, achieved, specific, goal, pretty, fine, form, in what, what feel, feel is, is pretty, act, head, when, far, too, young, making, support, her, instead, supporting, him, should, duty, mother, head of, when he, he is, is far, far too, for this, this and, and making, feel that, he has, has to, to support, instead of, of her, him which, which by, should be, because she, she is, is the, the mother, mother and, and he, the child, child and, ill and, and not, acted, cold, towards, situations, required, empathy, its, dont, care, always, feelings, fake, and cold, others in, in situations, its not, not that, that dont, dont care, just dont, always feel, the feelings, feelings so, so fake, fake it, actually, answered, pathetic, fucking, thats, easy, call, wonderful, trash, fuck, slave, come, shaken, but no, what was, was wonderful, day with, with you, what the, the fuck, he felt, felt the, come over, him he, begin, sorry, settled, someone, begin to, to feel, feel sorry, sorry for, for him, him that, for someone, someone like, like me, me for, for life, agitated, led, terrible, yesterday, unable, concentrate, anything, basically, away, actually feel, feel agitated, led to, which was, was unable, unable to, to concentrate, concentrate on, on anything, anything and, the day, embarrassed, feel embarrassed, long, feel excited, about it, it for, the first, first time, time in, in long, long time, frightened, people, here, feel frightened, frightened of, of people, here right, halfway, benevolent, hopeful, today, feel hopeful, hopeful today, inside, dangerous, apart, shoulder, really, amazing, feel inside, which is, is so, apart from, from my, my shoulder, feel really, insulted, plot, goes, feel insulted, when the, the plot, off on, like that, lame, such, lighter, workout, px, im, harder, dread, feel lame, because its, much lighter, than the, but im, im able, able to, harder and, and dont, it so, so much, everything, ok, like everything, everything is, is going, to be, be ok, beaten, like have, been beaten, beaten up, completely, submissive, like im, im the, compassionate, feel more, more compassionate, compassionate towards, towards them, feel pretty, pretty good, horribly, vain, posting, kinda, curious, posting this, this but, im kinda, americans, went, cry, blood, tortured, bill, rights, went on, on to, to cry, of the, sorrowful, most, content, the most, found, song, weird, used, play, guitar, sing, church, all, music, huge, part, college, high, found myself, the song, for making, making me, me feel, feel which, me because, used to, to play, like all, all the, the time, time and, and music, was huge, part of, my life, life in, in college, college and, high school, were, quite, friendly, been in, for some, some time, that the, the people, people were, were quite, eager, actually just, just feel, took, two, hour, break, pissed, keep, writing, two hour, because was, was feeling, feeling too, to keep, things, clean, messy, rebellious, like having, but like, like to, to have, have them, so feel, feel rebellious, prefer, toe, shoes, wont, notice, because of, of it, it because, because then, notice that, that my, my shoes, feel funny, forth, effort, stick, routine, though, less, stressed, fulfilled, end, enjoy, simple, moments, motherhood, the effort, effort and, stick to, though am, feel less, less stressed, stressed and, and more, the end, end of, day and, and am, to enjoy, enjoy the, the simple, moments of, of motherhood, read, disillusioned, insecurities, single, ladies, attempt, down, daily, basis, surface, without, wanting, read it, it im, im left, left feeling, feeling disillusioned, disillusioned and, and all, attempt to, down on, on daily, daily basis, without me, them to, started, hours, got, distracted, flow, odd, roommate, rude, typing, started this, this about, hours ago, ago and, and got, got distracted, distracted and, and now, now the, is all, my roommate, is here, here so, feel very, very rude, stop, think, makes, overwhelmed, to think, think about, it it, it makes, makes me, feel quite, would, bothered, their, other, woman, spent, bit, together, there, didnt, thought would, would feel, feel bothered, the other, quite bit, bit of, of time, time together, there but, but didnt, didnt feel, feel much, much of, of anything, meeting, yelled, older, lady, phone, rang, boss, treats, case, are, worth, only, allowing, those, offended, steal, joy, was in, last week, yelled at, at an, because her, terrible for, for her, or in, in this, this case, makes you, you feel, feel you, you are, are not, not worth, anything is, is only, those who, to steal, somewhat, wore, often, refer, feet, went into, yesterday feeling, feeling somewhat, that day, often refer, refer to, to as, add, becomes, uncomfortable, topic, and his, his feelings, feelings into, all of, of this, this it, it becomes, very messy, and uncomfortable, added, skin, lovely, to mine\n",
       "</div>"
      ]
     },
     "metadata": {
      "application/vnd.databricks.v1+output": {
       "addedWidgets": {},
       "arguments": {},
       "data": "<div class=\"ansiout\">Vocaburlary: \n\nboyfriend, with, whom, split, up, came, over, to, friends, house, where, was, visiting, male, friend, in, confrontation, another, room, he, tried, find, out, if, by, my, feeling, parts, with whom, up with, over to, where was, in another, he tried, tried to, to find, find out, out if, if was, by my, my friend, by feeling, feeling my, certain, push, me, off, seat, very, violent, way, for, no, apparent, reason, it, may, be, that, excited, about, something, to push, me off, in very, very violent, way for, for no, no apparent, apparent reason, it may, may be, be that, that he, he was, excited about, about something, father, of, children, killed, an, accident, of children, in an, an accident, few, ago, mine, suggested, become, film, extra, the, idea, seemed, funny, and, reaction, rather, others, friend of, of mine, the idea, to me, me and, and my, to the, the others, gigantic, climbed, face, what, is, more, own, flat, over my, my face, face and, and what, what is, is more, more in, in my, my own, girl, entered, work, greeted, everybody, but, not, in the, work and, but not, not me, relationship, which, had, put, trust, in which, which had, put my, my trust, scene, one, man, repressed, one man, another one, study, visit, chicken, factory, after, receiving, grade, on, paper, mentioned, fear, on the, mentioned in, arriving, new, zealand, as, teenager, first, overseas, trip, change, etc, in new, new zealand, about the, the change, child, suffered, even, since, than, as child, sadness, as in, at, situation, felt, myself, neglected, at certain, school, at school, some, at the, of some, some of, of my, my friends, before, exam, getting, back, results, test, getting back, back the, the results, results of, in school, being, family, having, seen, them, years, with my, my family, not having, them for, for years, subject, unfair, treatment, working, group, boy, you, have, been, admitted, medicine, your, uncle, coming, canada, next, week, told, happy, moment, you have, have been, admitted to, school and, and your, is coming, coming back, next week, my father, told me, and it, it was, was happy, climbing, mountain, see, view, to see, day, received, score, acceptance, into, chosen, course, into my, death, grandmother, death of, from, person, loved, much, very much, discovering, good, lied, good friend, friend had, lied to, during, holiday, met, again, who, commit, suicide, she, just, left, hospital, during my, my holiday, friend who, who had, to commit, she had, had just, last, academic, year, ie, closure, during the, the last, just before, before the, the closure, weekend, home, the weekend, at home, every, time, meet, dog, has, once, bitten, every time, that has, thief, fear of, finding, am, able, student, thought, finding out, out that, that am, am not, not an, ill, seriously, anatomy, lesson, loss, close, or, relative, for the, the loss, loss of, close friend, friend or, sent, company, expense, state, plan, trip to, to another, to work, work for, for week, week at, at that, going, take, driving, going to, to take, take my, offer, do, offer to, to do, hearing, west, lot, better, china, hearing about, lot better, better than, discussion, concerning, bad, burdened, our, bad person, person for, for feeling, feeling burdened, burdened by, by our, our relationship, href, http, groggy, href http, feeling groggy, absolutely, cannot, wait, september, th, roll, around, feel, calm, suppose, waiting, cannot wait, wait for, to roll, feel calm, my waiting, love, this, skinny, doing, wonders, fabulous, love this, it is, is doing, for me, and feel, feel fabulous, accomplishment, get, physically, unhappy, life, missing, right, now, working and, and the, the feeling, feeling of, of accomplishment, get from, from it, it but, but am, unhappy with, with the, the family, family life, am missing, right now, accepted, his, apology, because, like, remorseful, how, treated, because feel, feel like, like he, remorseful for, for how, how he, he treated, treated me, accidentally, mood, jumped, then, surprised, views, lol, feel the, the mood, mood and, then what, surprised me, me was, was for, for over, so, bones, toes, hurt, walk, swear, could, aching, so bad, my toes, hurt to, to walk, could feel, feel my, achieved, specific, goal, pretty, fine, form, in what, what feel, feel is, is pretty, act, head, when, far, too, young, making, support, her, instead, supporting, him, should, duty, mother, head of, when he, he is, is far, far too, for this, this and, and making, feel that, he has, has to, to support, instead of, of her, him which, which by, should be, because she, she is, is the, the mother, mother and, and he, the child, child and, ill and, and not, acted, cold, towards, situations, required, empathy, its, dont, care, always, feelings, fake, and cold, others in, in situations, its not, not that, that dont, dont care, just dont, always feel, the feelings, feelings so, so fake, fake it, actually, answered, pathetic, fucking, thats, easy, call, wonderful, trash, fuck, slave, come, shaken, but no, what was, was wonderful, day with, with you, what the, the fuck, he felt, felt the, come over, him he, begin, sorry, settled, someone, begin to, to feel, feel sorry, sorry for, for him, him that, for someone, someone like, like me, me for, for life, agitated, led, terrible, yesterday, unable, concentrate, anything, basically, away, actually feel, feel agitated, led to, which was, was unable, unable to, to concentrate, concentrate on, on anything, anything and, the day, embarrassed, feel embarrassed, long, feel excited, about it, it for, the first, first time, time in, in long, long time, frightened, people, here, feel frightened, frightened of, of people, here right, halfway, benevolent, hopeful, today, feel hopeful, hopeful today, inside, dangerous, apart, shoulder, really, amazing, feel inside, which is, is so, apart from, from my, my shoulder, feel really, insulted, plot, goes, feel insulted, when the, the plot, off on, like that, lame, such, lighter, workout, px, im, harder, dread, feel lame, because its, much lighter, than the, but im, im able, able to, harder and, and dont, it so, so much, everything, ok, like everything, everything is, is going, to be, be ok, beaten, like have, been beaten, beaten up, completely, submissive, like im, im the, compassionate, feel more, more compassionate, compassionate towards, towards them, feel pretty, pretty good, horribly, vain, posting, kinda, curious, posting this, this but, im kinda, americans, went, cry, blood, tortured, bill, rights, went on, on to, to cry, of the, sorrowful, most, content, the most, found, song, weird, used, play, guitar, sing, church, all, music, huge, part, college, high, found myself, the song, for making, making me, me feel, feel which, me because, used to, to play, like all, all the, the time, time and, and music, was huge, part of, my life, life in, in college, college and, high school, were, quite, friendly, been in, for some, some time, that the, the people, people were, were quite, eager, actually just, just feel, took, two, hour, break, pissed, keep, writing, two hour, because was, was feeling, feeling too, to keep, things, clean, messy, rebellious, like having, but like, like to, to have, have them, so feel, feel rebellious, prefer, toe, shoes, wont, notice, because of, of it, it because, because then, notice that, that my, my shoes, feel funny, forth, effort, stick, routine, though, less, stressed, fulfilled, end, enjoy, simple, moments, motherhood, the effort, effort and, stick to, though am, feel less, less stressed, stressed and, and more, the end, end of, day and, and am, to enjoy, enjoy the, the simple, moments of, of motherhood, read, disillusioned, insecurities, single, ladies, attempt, down, daily, basis, surface, without, wanting, read it, it im, im left, left feeling, feeling disillusioned, disillusioned and, and all, attempt to, down on, on daily, daily basis, without me, them to, started, hours, got, distracted, flow, odd, roommate, rude, typing, started this, this about, hours ago, ago and, and got, got distracted, distracted and, and now, now the, is all, my roommate, is here, here so, feel very, very rude, stop, think, makes, overwhelmed, to think, think about, it it, it makes, makes me, feel quite, would, bothered, their, other, woman, spent, bit, together, there, didnt, thought would, would feel, feel bothered, the other, quite bit, bit of, of time, time together, there but, but didnt, didnt feel, feel much, much of, of anything, meeting, yelled, older, lady, phone, rang, boss, treats, case, are, worth, only, allowing, those, offended, steal, joy, was in, last week, yelled at, at an, because her, terrible for, for her, or in, in this, this case, makes you, you feel, feel you, you are, are not, not worth, anything is, is only, those who, to steal, somewhat, wore, often, refer, feet, went into, yesterday feeling, feeling somewhat, that day, often refer, refer to, to as, add, becomes, uncomfortable, topic, and his, his feelings, feelings into, all of, of this, this it, it becomes, very messy, and uncomfortable, added, skin, lovely, to mine\n</div>",
       "datasetInfos": [],
       "metadata": {},
       "removedWidgets": [],
       "type": "html"
      }
     },
     "output_type": "display_data"
    }
   ],
   "source": [
    "from IPython.display import display, Markdown, Latex\n",
    "\n",
    "vocab_plain = \"Vocaburlary: \\n\\n\" + \", \".join(list(vocab.keys())[:1000])\n",
    "\n",
    "display({'text/plain': vocab_plain,\n",
    "         'text/markdown': vocab_plain}, raw=True)"
   ]
  },
  {
   "cell_type": "markdown",
   "metadata": {
    "application/vnd.databricks.v1+cell": {
     "inputWidgets": {},
     "nuid": "047544c6-eac7-4f0f-922a-dc79280bd5f6",
     "showTitle": false,
     "title": ""
    }
   },
   "source": [
    "Just like input features, output labels should be transformed into numerical format: `[sadness, love, fear, surprise, joy, anger]` $ \\implies $ `[0, 1, 2, 3, 4, 5]`."
   ]
  },
  {
   "cell_type": "code",
   "execution_count": null,
   "metadata": {
    "application/vnd.databricks.v1+cell": {
     "inputWidgets": {},
     "nuid": "4ac376d4-4984-4967-9d1a-c954d0f5e814",
     "showTitle": false,
     "title": ""
    }
   },
   "outputs": [
    {
     "data": {
      "text/html": [
       "<style scoped>\n",
       "  .ansiout {\n",
       "    display: block;\n",
       "    unicode-bidi: embed;\n",
       "    white-space: pre-wrap;\n",
       "    word-wrap: break-word;\n",
       "    word-break: break-all;\n",
       "    font-family: \"Source Code Pro\", \"Menlo\", monospace;;\n",
       "    font-size: 13px;\n",
       "    color: #555;\n",
       "    margin-left: 4px;\n",
       "    line-height: 19px;\n",
       "  }\n",
       "</style>\n",
       "<div class=\"ansiout\"></div>"
      ]
     },
     "metadata": {
      "application/vnd.databricks.v1+output": {
       "addedWidgets": {},
       "arguments": {},
       "data": "<div class=\"ansiout\"></div>",
       "datasetInfos": [],
       "metadata": {},
       "removedWidgets": [],
       "type": "html"
      }
     },
     "output_type": "display_data"
    }
   ],
   "source": [
    "from sklearn.preprocessing import LabelEncoder\n",
    "\n",
    "encoder = LabelEncoder()\n",
    "labels = encoder.fit(train_df['emotion'].append(test_df['emotion']).values)"
   ]
  },
  {
   "cell_type": "markdown",
   "metadata": {},
   "source": [
    "Example of labels transformation."
   ]
  },
  {
   "cell_type": "code",
   "execution_count": null,
   "metadata": {
    "application/vnd.databricks.v1+cell": {
     "inputWidgets": {},
     "nuid": "5a1ffa39-4a92-424f-83cb-083eff7f4290",
     "showTitle": false,
     "title": ""
    }
   },
   "outputs": [
    {
     "data": {
      "text/html": [
       "<style scoped>\n",
       "  .ansiout {\n",
       "    display: block;\n",
       "    unicode-bidi: embed;\n",
       "    white-space: pre-wrap;\n",
       "    word-wrap: break-word;\n",
       "    word-break: break-all;\n",
       "    font-family: \"Source Code Pro\", \"Menlo\", monospace;;\n",
       "    font-size: 13px;\n",
       "    color: #555;\n",
       "    margin-left: 4px;\n",
       "    line-height: 19px;\n",
       "  }\n",
       "</style>\n",
       "<div class=\"ansiout\">Out[25]: array([0, 0, 4, 0, 2, 0, 0, 4, 0, 0])</div>"
      ]
     },
     "metadata": {
      "application/vnd.databricks.v1+output": {
       "addedWidgets": {},
       "arguments": {},
       "data": "<div class=\"ansiout\">Out[25]: array([0, 0, 4, 0, 2, 0, 0, 4, 0, 0])</div>",
       "datasetInfos": [],
       "metadata": {},
       "removedWidgets": [],
       "type": "html"
      }
     },
     "output_type": "display_data"
    }
   ],
   "source": [
    "y_train = encoder.transform(y_train)\n",
    "y_val = encoder.transform(y_val)\n",
    "\n",
    "y_train[:10]"
   ]
  },
  {
   "cell_type": "markdown",
   "metadata": {},
   "source": [
    "Now features are in a form of a sparse vector with $ 1 \\times N $ dimensionality, where $ N = 20000 $ - vocabulary size."
   ]
  },
  {
   "cell_type": "code",
   "execution_count": null,
   "metadata": {
    "application/vnd.databricks.v1+cell": {
     "inputWidgets": {},
     "nuid": "d33f0064-ab49-493b-82a0-a46b5533ac9a",
     "showTitle": false,
     "title": ""
    }
   },
   "outputs": [
    {
     "data": {
      "text/html": [
       "<style scoped>\n",
       "  .ansiout {\n",
       "    display: block;\n",
       "    unicode-bidi: embed;\n",
       "    white-space: pre-wrap;\n",
       "    word-wrap: break-word;\n",
       "    word-break: break-all;\n",
       "    font-family: \"Source Code Pro\", \"Menlo\", monospace;;\n",
       "    font-size: 13px;\n",
       "    color: #555;\n",
       "    margin-left: 4px;\n",
       "    line-height: 19px;\n",
       "  }\n",
       "</style>\n",
       "<div class=\"ansiout\">  (0, 1143)\t1\n",
       "  (0, 2270)\t1\n",
       "  (0, 2474)\t2\n",
       "  (0, 2482)\t1\n",
       "  (0, 2493)\t1\n",
       "  (0, 2542)\t1\n",
       "  (0, 3207)\t1\n",
       "  (0, 5691)\t1\n",
       "  (0, 5888)\t1\n",
       "  (0, 6118)\t1\n",
       "  (0, 6124)\t1\n",
       "  (0, 6418)\t2\n",
       "  (0, 6428)\t1\n",
       "  (0, 7297)\t1\n",
       "  (0, 7347)\t1\n",
       "  (0, 7843)\t1\n",
       "  (0, 8027)\t1\n",
       "  (0, 8084)\t1\n",
       "  (0, 8275)\t2\n",
       "  (0, 8282)\t1\n",
       "  (0, 9960)\t1\n",
       "  (0, 10608)\t2\n",
       "  (0, 10752)\t1\n",
       "  (0, 12179)\t1\n",
       "  (0, 12194)\t1\n",
       "  (0, 12228)\t1\n",
       "  (0, 12240)\t1\n",
       "  (0, 12336)\t1\n",
       "  (0, 13347)\t1\n",
       "  (0, 14399)\t1\n",
       "  (0, 16946)\t2\n",
       "  (0, 17105)\t1\n",
       "  (0, 17629)\t1\n",
       "  (0, 17631)\t1\n",
       "  (0, 17909)\t1\n",
       "  (0, 17956)\t1\n",
       "  (0, 18276)\t1\n",
       "  (0, 18407)\t2\n",
       "  (0, 19042)\t1\n",
       "  (0, 19065)\t1\n",
       "  (0, 19213)\t1\n",
       "  (0, 19354)\t3\n",
       "  (0, 19442)\t1\n",
       "</div>"
      ]
     },
     "metadata": {
      "application/vnd.databricks.v1+output": {
       "addedWidgets": {},
       "arguments": {},
       "data": "<div class=\"ansiout\">  (0, 1143)\t1\n  (0, 2270)\t1\n  (0, 2474)\t2\n  (0, 2482)\t1\n  (0, 2493)\t1\n  (0, 2542)\t1\n  (0, 3207)\t1\n  (0, 5691)\t1\n  (0, 5888)\t1\n  (0, 6118)\t1\n  (0, 6124)\t1\n  (0, 6418)\t2\n  (0, 6428)\t1\n  (0, 7297)\t1\n  (0, 7347)\t1\n  (0, 7843)\t1\n  (0, 8027)\t1\n  (0, 8084)\t1\n  (0, 8275)\t2\n  (0, 8282)\t1\n  (0, 9960)\t1\n  (0, 10608)\t2\n  (0, 10752)\t1\n  (0, 12179)\t1\n  (0, 12194)\t1\n  (0, 12228)\t1\n  (0, 12240)\t1\n  (0, 12336)\t1\n  (0, 13347)\t1\n  (0, 14399)\t1\n  (0, 16946)\t2\n  (0, 17105)\t1\n  (0, 17629)\t1\n  (0, 17631)\t1\n  (0, 17909)\t1\n  (0, 17956)\t1\n  (0, 18276)\t1\n  (0, 18407)\t2\n  (0, 19042)\t1\n  (0, 19065)\t1\n  (0, 19213)\t1\n  (0, 19354)\t3\n  (0, 19442)\t1\n</div>",
       "datasetInfos": [],
       "metadata": {},
       "removedWidgets": [],
       "type": "html"
      }
     },
     "output_type": "display_data"
    }
   ],
   "source": [
    "display({'text/plain': str(X_train[0]),\n",
    "         'text/markdown': str(X_train[0])}, raw=True)"
   ]
  },
  {
   "cell_type": "markdown",
   "metadata": {},
   "source": [
    "The model includes SVM classifier ensemble with `OneVsOneClassifier` strategy on top. It consists in fitting one classifier per class pair with $ \\frac{N \\cdot N - 1}{2} $ classifiers in ensemble. Model structure can be described in a following diagram:\n",
    "\n",
    "![Documentation](../docs/sentiment-model-svm.png)"
   ]
  },
  {
   "cell_type": "code",
   "execution_count": null,
   "metadata": {
    "application/vnd.databricks.v1+cell": {
     "inputWidgets": {},
     "nuid": "197f8601-32e0-461f-9f6f-03ca7001623c",
     "showTitle": false,
     "title": ""
    }
   },
   "outputs": [
    {
     "data": {
      "text/html": [
       "<style scoped>\n",
       "  .ansiout {\n",
       "    display: block;\n",
       "    unicode-bidi: embed;\n",
       "    white-space: pre-wrap;\n",
       "    word-wrap: break-word;\n",
       "    word-break: break-all;\n",
       "    font-family: \"Source Code Pro\", \"Menlo\", monospace;;\n",
       "    font-size: 13px;\n",
       "    color: #555;\n",
       "    margin-left: 4px;\n",
       "    line-height: 19px;\n",
       "  }\n",
       "</style>\n",
       "<div class=\"ansiout\"></div>"
      ]
     },
     "metadata": {
      "application/vnd.databricks.v1+output": {
       "addedWidgets": {},
       "arguments": {},
       "data": "<div class=\"ansiout\"></div>",
       "datasetInfos": [],
       "metadata": {},
       "removedWidgets": [],
       "type": "html"
      }
     },
     "output_type": "display_data"
    }
   ],
   "source": [
    "from sklearn.model_selection import KFold, cross_val_score\n",
    "from sklearn.linear_model import RidgeClassifier, LogisticRegression, PassiveAggressiveClassifier\n",
    "from sklearn.svm import LinearSVC, SVC, NuSVC\n",
    "from sklearn.multiclass import OneVsOneClassifier\n",
    "\n",
    "classifier = OneVsOneClassifier(LinearSVC(max_iter=10000))"
   ]
  },
  {
   "cell_type": "markdown",
   "metadata": {},
   "source": [
    "Performing training with hyperparameter tuning."
   ]
  },
  {
   "cell_type": "code",
   "execution_count": null,
   "metadata": {
    "application/vnd.databricks.v1+cell": {
     "inputWidgets": {},
     "nuid": "5f81a381-8cbe-4e3c-a2af-032de0e1ab6c",
     "showTitle": false,
     "title": ""
    }
   },
   "outputs": [
    {
     "data": {
      "text/html": [
       "<style scoped>\n",
       "  .ansiout {\n",
       "    display: block;\n",
       "    unicode-bidi: embed;\n",
       "    white-space: pre-wrap;\n",
       "    word-wrap: break-word;\n",
       "    word-break: break-all;\n",
       "    font-family: \"Source Code Pro\", \"Menlo\", monospace;;\n",
       "    font-size: 13px;\n",
       "    color: #555;\n",
       "    margin-left: 4px;\n",
       "    line-height: 19px;\n",
       "  }\n",
       "</style>\n",
       "<div class=\"ansiout\">Out[30]: GridSearchCV(estimator=OneVsOneClassifier(estimator=LinearSVC(max_iter=10000)),\n",
       "             n_jobs=24, param_grid={&#39;estimator__C&#39;: [0.01, 0.1, 1.0, 10.0]})</div>"
      ]
     },
     "metadata": {
      "application/vnd.databricks.v1+output": {
       "addedWidgets": {},
       "arguments": {},
       "data": "<div class=\"ansiout\">Out[30]: GridSearchCV(estimator=OneVsOneClassifier(estimator=LinearSVC(max_iter=10000)),\n             n_jobs=24, param_grid={&#39;estimator__C&#39;: [0.01, 0.1, 1.0, 10.0]})</div>",
       "datasetInfos": [],
       "metadata": {},
       "removedWidgets": [],
       "type": "html"
      }
     },
     "output_type": "display_data"
    }
   ],
   "source": [
    "from sklearn.model_selection import GridSearchCV\n",
    "\n",
    "clf = GridSearchCV(classifier, {'estimator__C': [0.01, 0.1, 1.0, 10.0]}, n_jobs=24)\n",
    "clf.fit(X_train, y_train)"
   ]
  },
  {
   "cell_type": "markdown",
   "metadata": {},
   "source": [
    "Get the estimator with the best hyperparameter."
   ]
  },
  {
   "cell_type": "code",
   "execution_count": null,
   "metadata": {
    "application/vnd.databricks.v1+cell": {
     "inputWidgets": {},
     "nuid": "8a81d628-53ea-4c4e-99cf-df3e9a192e2a",
     "showTitle": false,
     "title": ""
    }
   },
   "outputs": [
    {
     "data": {
      "text/html": [
       "<style scoped>\n",
       "  .ansiout {\n",
       "    display: block;\n",
       "    unicode-bidi: embed;\n",
       "    white-space: pre-wrap;\n",
       "    word-wrap: break-word;\n",
       "    word-break: break-all;\n",
       "    font-family: \"Source Code Pro\", \"Menlo\", monospace;;\n",
       "    font-size: 13px;\n",
       "    color: #555;\n",
       "    margin-left: 4px;\n",
       "    line-height: 19px;\n",
       "  }\n",
       "</style>\n",
       "<div class=\"ansiout\">Out[32]: OneVsOneClassifier(estimator=LinearSVC(max_iter=10000))</div>"
      ]
     },
     "metadata": {
      "application/vnd.databricks.v1+output": {
       "addedWidgets": {},
       "arguments": {},
       "data": "<div class=\"ansiout\">Out[32]: OneVsOneClassifier(estimator=LinearSVC(max_iter=10000))</div>",
       "datasetInfos": [],
       "metadata": {},
       "removedWidgets": [],
       "type": "html"
      }
     },
     "output_type": "display_data"
    }
   ],
   "source": [
    "model = clf.best_estimator_\n",
    "\n",
    "model"
   ]
  },
  {
   "cell_type": "markdown",
   "metadata": {},
   "source": [
    "Score on the training subset."
   ]
  },
  {
   "cell_type": "code",
   "execution_count": null,
   "metadata": {
    "application/vnd.databricks.v1+cell": {
     "inputWidgets": {},
     "nuid": "a65b2d54-4f5c-4622-ad06-09c38de4f429",
     "showTitle": false,
     "title": ""
    }
   },
   "outputs": [
    {
     "data": {
      "text/html": [
       "<style scoped>\n",
       "  .ansiout {\n",
       "    display: block;\n",
       "    unicode-bidi: embed;\n",
       "    white-space: pre-wrap;\n",
       "    word-wrap: break-word;\n",
       "    word-break: break-all;\n",
       "    font-family: \"Source Code Pro\", \"Menlo\", monospace;;\n",
       "    font-size: 13px;\n",
       "    color: #555;\n",
       "    margin-left: 4px;\n",
       "    line-height: 19px;\n",
       "  }\n",
       "</style>\n",
       "<div class=\"ansiout\">Out[33]: 0.9980066031271413</div>"
      ]
     },
     "metadata": {
      "application/vnd.databricks.v1+output": {
       "addedWidgets": {},
       "arguments": {},
       "data": "<div class=\"ansiout\">Out[33]: 0.9980066031271413</div>",
       "datasetInfos": [],
       "metadata": {},
       "removedWidgets": [],
       "type": "html"
      }
     },
     "output_type": "display_data"
    }
   ],
   "source": [
    "model.score(X_train, y_train)"
   ]
  },
  {
   "cell_type": "markdown",
   "metadata": {},
   "source": [
    "Score on the validation subset."
   ]
  },
  {
   "cell_type": "code",
   "execution_count": null,
   "metadata": {
    "application/vnd.databricks.v1+cell": {
     "inputWidgets": {},
     "nuid": "892ff3c0-5d4e-4b00-b604-55f84792b1ad",
     "showTitle": false,
     "title": ""
    }
   },
   "outputs": [
    {
     "data": {
      "text/html": [
       "<style scoped>\n",
       "  .ansiout {\n",
       "    display: block;\n",
       "    unicode-bidi: embed;\n",
       "    white-space: pre-wrap;\n",
       "    word-wrap: break-word;\n",
       "    word-break: break-all;\n",
       "    font-family: \"Source Code Pro\", \"Menlo\", monospace;;\n",
       "    font-size: 13px;\n",
       "    color: #555;\n",
       "    margin-left: 4px;\n",
       "    line-height: 19px;\n",
       "  }\n",
       "</style>\n",
       "<div class=\"ansiout\">Out[34]: 0.887648998224702</div>"
      ]
     },
     "metadata": {
      "application/vnd.databricks.v1+output": {
       "addedWidgets": {},
       "arguments": {},
       "data": "<div class=\"ansiout\">Out[34]: 0.887648998224702</div>",
       "datasetInfos": [],
       "metadata": {},
       "removedWidgets": [],
       "type": "html"
      }
     },
     "output_type": "display_data"
    }
   ],
   "source": [
    "clf.score(X_val, y_val)"
   ]
  },
  {
   "cell_type": "markdown",
   "metadata": {},
   "source": [
    "Example of the class prediction."
   ]
  },
  {
   "cell_type": "code",
   "execution_count": null,
   "metadata": {
    "application/vnd.databricks.v1+cell": {
     "inputWidgets": {},
     "nuid": "977cb602-269b-4802-9280-788b0a51ac8f",
     "showTitle": false,
     "title": ""
    }
   },
   "outputs": [
    {
     "data": {
      "text/html": [
       "<style scoped>\n",
       "  .ansiout {\n",
       "    display: block;\n",
       "    unicode-bidi: embed;\n",
       "    white-space: pre-wrap;\n",
       "    word-wrap: break-word;\n",
       "    word-break: break-all;\n",
       "    font-family: \"Source Code Pro\", \"Menlo\", monospace;;\n",
       "    font-size: 13px;\n",
       "    color: #555;\n",
       "    margin-left: 4px;\n",
       "    line-height: 19px;\n",
       "  }\n",
       "</style>\n",
       "<div class=\"ansiout\">Out[35]: array([0, 0, 4, 2, 0, 0, 2, 2, 0, 4])</div>"
      ]
     },
     "metadata": {
      "application/vnd.databricks.v1+output": {
       "addedWidgets": {},
       "arguments": {},
       "data": "<div class=\"ansiout\">Out[35]: array([0, 0, 4, 2, 0, 0, 2, 2, 0, 4])</div>",
       "datasetInfos": [],
       "metadata": {},
       "removedWidgets": [],
       "type": "html"
      }
     },
     "output_type": "display_data"
    }
   ],
   "source": [
    "y_predicted = model.predict(X_val)\n",
    "\n",
    "y_predicted[:10]"
   ]
  },
  {
   "cell_type": "markdown",
   "metadata": {},
   "source": [
    "To evaluate the results we will use several classification metrics:\n",
    " - [Accuracy](http://scikit-learn.org/stable/modules/generated/sklearn.metrics.accuracy_score.html) - for this task, computes subset accuracy: the set of labels predicted for a sample must exactly match the corresponding set of labels in expected.\n",
    " - [F1-score](http://scikit-learn.org/stable/modules/generated/sklearn.metrics.f1_score.html) - can be interpreted as a weighted average of the precision and recall, where an F1 score reaches its best value at 1 and worst score at 0.\n",
    " - [Area under ROC-curve](http://scikit-learn.org/stable/modules/generated/sklearn.metrics.roc_auc_score.html) - Receiver Operating Characteristic Area Under the Curve.\n",
    " - [Area under precision-recall curve](http://scikit-learn.org/stable/modules/generated/sklearn.metrics.average_precision_score.html#sklearn.metrics.average_precision_score) - summarizes a precision-recall curve as the weighted mean of precisions achieved at each threshold, with the increase in recall from the previous threshold used as the weight $ \\sum_{n} (R_{n} - R_{n-1})P_{n} $."
   ]
  },
  {
   "cell_type": "code",
   "execution_count": null,
   "metadata": {
    "application/vnd.databricks.v1+cell": {
     "inputWidgets": {},
     "nuid": "b2bffd71-b96e-491c-9f95-99ad8506940d",
     "showTitle": false,
     "title": ""
    }
   },
   "outputs": [
    {
     "data": {
      "text/html": [
       "<style scoped>\n",
       "  .ansiout {\n",
       "    display: block;\n",
       "    unicode-bidi: embed;\n",
       "    white-space: pre-wrap;\n",
       "    word-wrap: break-word;\n",
       "    word-break: break-all;\n",
       "    font-family: \"Source Code Pro\", \"Menlo\", monospace;;\n",
       "    font-size: 13px;\n",
       "    color: #555;\n",
       "    margin-left: 4px;\n",
       "    line-height: 19px;\n",
       "  }\n",
       "</style>\n",
       "<div class=\"ansiout\">Out[36]: </div>"
      ]
     },
     "metadata": {
      "application/vnd.databricks.v1+output": {
       "addedWidgets": {},
       "arguments": {},
       "data": "<div class=\"ansiout\">Out[36]: </div>",
       "datasetInfos": [],
       "metadata": {},
       "removedWidgets": [],
       "type": "html"
      }
     },
     "output_type": "display_data"
    },
    {
     "data": {
      "text/html": [
       "<div>\n",
       "<style scoped>\n",
       "    .dataframe tbody tr th:only-of-type {\n",
       "        vertical-align: middle;\n",
       "    }\n",
       "\n",
       "    .dataframe tbody tr th {\n",
       "        vertical-align: top;\n",
       "    }\n",
       "\n",
       "    .dataframe thead th {\n",
       "        text-align: right;\n",
       "    }\n",
       "</style>\n",
       "<table border=\"1\" class=\"dataframe\">\n",
       "  <thead>\n",
       "    <tr style=\"text-align: right;\">\n",
       "      <th></th>\n",
       "      <th>Metric</th>\n",
       "      <th>Value</th>\n",
       "    </tr>\n",
       "  </thead>\n",
       "  <tbody>\n",
       "    <tr>\n",
       "      <th>0</th>\n",
       "      <td>Accuracy</td>\n",
       "      <td>0.887649</td>\n",
       "    </tr>\n",
       "    <tr>\n",
       "      <th>1</th>\n",
       "      <td>F1 Weighted</td>\n",
       "      <td>0.887297</td>\n",
       "    </tr>\n",
       "    <tr>\n",
       "      <th>2</th>\n",
       "      <td>Precision</td>\n",
       "      <td>0.887366</td>\n",
       "    </tr>\n",
       "    <tr>\n",
       "      <th>3</th>\n",
       "      <td>Recall</td>\n",
       "      <td>0.887649</td>\n",
       "    </tr>\n",
       "  </tbody>\n",
       "</table>\n",
       "</div>"
      ]
     },
     "metadata": {
      "application/vnd.databricks.v1+output": {
       "addedWidgets": {},
       "arguments": {},
       "data": "<div>\n<style scoped>\n    .dataframe tbody tr th:only-of-type {\n        vertical-align: middle;\n    }\n\n    .dataframe tbody tr th {\n        vertical-align: top;\n    }\n\n    .dataframe thead th {\n        text-align: right;\n    }\n</style>\n<table border=\"1\" class=\"dataframe\">\n  <thead>\n    <tr style=\"text-align: right;\">\n      <th></th>\n      <th>Metric</th>\n      <th>Value</th>\n    </tr>\n  </thead>\n  <tbody>\n    <tr>\n      <th>0</th>\n      <td>Accuracy</td>\n      <td>0.887649</td>\n    </tr>\n    <tr>\n      <th>1</th>\n      <td>F1 Weighted</td>\n      <td>0.887297</td>\n    </tr>\n    <tr>\n      <th>2</th>\n      <td>Precision</td>\n      <td>0.887366</td>\n    </tr>\n    <tr>\n      <th>3</th>\n      <td>Recall</td>\n      <td>0.887649</td>\n    </tr>\n  </tbody>\n</table>\n</div>",
       "datasetInfos": [],
       "metadata": {},
       "removedWidgets": [],
       "textData": null,
       "type": "htmlSandbox"
      }
     },
     "output_type": "display_data"
    }
   ],
   "source": [
    "import pandas as pd\n",
    "\n",
    "from sklearn.metrics import accuracy_score\n",
    "from sklearn.metrics import f1_score\n",
    "from sklearn.metrics import roc_auc_score \n",
    "from sklearn.metrics import precision_score\n",
    "from sklearn.metrics import recall_score\n",
    "\n",
    "pd.DataFrame([\n",
    "    ['Accuracy', accuracy_score(y_val, y_predicted)],\n",
    "    ['F1 Weighted', f1_score(y_val, y_predicted, average='weighted')],\n",
    "    ['Precision', precision_score(y_val, y_predicted, average='weighted')],\n",
    "    ['Recall', recall_score(y_val, y_predicted, average='weighted')]\n",
    "], columns=['Metric', 'Value'])"
   ]
  },
  {
   "cell_type": "markdown",
   "metadata": {},
   "source": [
    "Plotting ROC curve, that shows the efficiency of the classifier. The results clearly showing, that some classes, like `[fear, love, sadness]` have bad performance: `FP` rate is much bigger than `TP` rate. This issue can be solved by gathering more user comments on the service."
   ]
  },
  {
   "cell_type": "code",
   "execution_count": null,
   "metadata": {
    "application/vnd.databricks.v1+cell": {
     "inputWidgets": {},
     "nuid": "eb81b049-9046-4c3b-b229-e7ff7100b364",
     "showTitle": false,
     "title": ""
    }
   },
   "outputs": [
    {
     "data": {
      "image/png": "[encoded data removed]"
     },
     "metadata": {
      "application/vnd.databricks.v1+output": {
       "addedWidgets": {},
       "arguments": {},
       "data": "/plots/eaadbb99-ae4c-4ca2-9736-798b4421e9e2.png",
       "datasetInfos": [],
       "metadata": {},
       "removedWidgets": [],
       "type": "image"
      }
     },
     "output_type": "display_data"
    }
   ],
   "source": [
    "import matplotlib.pyplot as plt\n",
    "from sklearn.metrics import roc_curve\n",
    "\n",
    "\n",
    "for i in range(len(label_summary[\"label\"])):\n",
    "    fpr, tpr, thresh = roc_curve(y_val, y_predicted, pos_label=i)\n",
    "    plt.plot(fpr, tpr, linestyle='--', label=f'Rate for {label_summary[\"label\"][i]}')\n",
    "\n",
    "# roc curve for tpr = fpr \n",
    "random_probs = [0 for i in range(len(y_val))]\n",
    "p_fpr, p_tpr, _ = roc_curve(y_val, random_probs, pos_label=0)\n",
    "plt.plot(p_fpr, p_tpr, linestyle='--', color='blue')\n",
    "\n",
    "plt.title('ROC curve')\n",
    "plt.xlabel('False Positive Rate')\n",
    "plt.ylabel('True Positive rate')\n",
    "\n",
    "plt.legend(loc='best')\n",
    "plt.show()"
   ]
  },
  {
   "cell_type": "markdown",
   "metadata": {},
   "source": [
    "Example of the classification."
   ]
  },
  {
   "cell_type": "code",
   "execution_count": null,
   "metadata": {
    "application/vnd.databricks.v1+cell": {
     "inputWidgets": {},
     "nuid": "07173d40-3e64-4ca4-a099-97cdefcc604e",
     "showTitle": false,
     "title": ""
    }
   },
   "outputs": [
    {
     "data": {
      "text/html": [
       "<style scoped>\n",
       "  .ansiout {\n",
       "    display: block;\n",
       "    unicode-bidi: embed;\n",
       "    white-space: pre-wrap;\n",
       "    word-wrap: break-word;\n",
       "    word-break: break-all;\n",
       "    font-family: \"Source Code Pro\", \"Menlo\", monospace;;\n",
       "    font-size: 13px;\n",
       "    color: #555;\n",
       "    margin-left: 4px;\n",
       "    line-height: 19px;\n",
       "  }\n",
       "</style>\n",
       "<div class=\"ansiout\">Out[45]: array([&#39;anger&#39;, &#39;joy&#39;, &#39;joy&#39;], dtype=object)</div>"
      ]
     },
     "metadata": {
      "application/vnd.databricks.v1+output": {
       "addedWidgets": {},
       "arguments": {},
       "data": "<div class=\"ansiout\">Out[45]: array([&#39;anger&#39;, &#39;joy&#39;, &#39;joy&#39;], dtype=object)</div>",
       "datasetInfos": [],
       "metadata": {},
       "removedWidgets": [],
       "type": "html"
      }
     },
     "output_type": "display_data"
    }
   ],
   "source": [
    "features = tfidf_vectorizer.transform([\"i can not believe i spent my money on this game\",\n",
    "                                       \"this game just makes me feel better\",\n",
    "                                       \"yes\"])\n",
    "label = model.predict(features)\n",
    "output = encoder.inverse_transform(label)\n",
    "\n",
    "output"
   ]
  },
  {
   "cell_type": "markdown",
   "metadata": {
    "application/vnd.databricks.v1+cell": {
     "inputWidgets": {},
     "nuid": "8ed79fd7-ed7d-492c-8d3d-5aeb6c1d90be",
     "showTitle": false,
     "title": ""
    }
   },
   "source": [
    "## Model training with data cleaning"
   ]
  },
  {
   "cell_type": "markdown",
   "metadata": {
    "application/vnd.databricks.v1+cell": {
     "inputWidgets": {},
     "nuid": "547d317e-d012-4642-955c-5a950158b3fd",
     "showTitle": false,
     "title": ""
    }
   },
   "source": [
    "**Pipeline of pre-processing of text data** is divided into the following stages:\n",
    "  - Tokenization: division of sentences into separate tokens (in this case words);\n",
    "  - Removal of stopwords (words that do not contain any meaningful information: \"a\", \"the\" e.t.c.);\n",
    "  - Norvig-Sweeting model: spellchecking model from [John Snow Labs](https://nlp.johnsnowlabs.com/);\n",
    "  - Lemmatization: reduction of tokens (words) to a common lemma (for example 'learning' $ \\implies $ 'learn');\n",
    "  - Normalization: reduction of tokens to a single case;\n",
    " \n",
    "All these steps are necessary to reduce the number of words that have the same meaning, which makes the model more resistant to noise."
   ]
  },
  {
   "cell_type": "code",
   "execution_count": null,
   "metadata": {
    "application/vnd.databricks.v1+cell": {
     "inputWidgets": {},
     "nuid": "bbe17106-0776-4d17-84c5-51526ade3c91",
     "showTitle": false,
     "title": ""
    }
   },
   "outputs": [
    {
     "data": {
      "text/html": [
       "<style scoped>\n",
       "  .ansiout {\n",
       "    display: block;\n",
       "    unicode-bidi: embed;\n",
       "    white-space: pre-wrap;\n",
       "    word-wrap: break-word;\n",
       "    word-break: break-all;\n",
       "    font-family: \"Source Code Pro\", \"Menlo\", monospace;;\n",
       "    font-size: 13px;\n",
       "    color: #555;\n",
       "    margin-left: 4px;\n",
       "    line-height: 19px;\n",
       "  }\n",
       "</style>\n",
       "<div class=\"ansiout\">spellcheck_norvig download started this may take some time.\n",
       "Approximate size to download 4.2 MB\n",
       "\r",
       "[ | ]\r",
       "[ / ]\r",
       "[ — ]\r",
       "[ \\ ]\r",
       "[ | ]\r",
       "[ / ]\r",
       "[OK!]\n",
       "lemma_antbnc download started this may take some time.\n",
       "Approximate size to download 907.6 KB\n",
       "\r",
       "[ | ]\r",
       "[ / ]\r",
       "[OK!]\n",
       "</div>"
      ]
     },
     "metadata": {
      "application/vnd.databricks.v1+output": {
       "addedWidgets": {},
       "arguments": {},
       "data": "<div class=\"ansiout\">spellcheck_norvig download started this may take some time.\nApproximate size to download 4.2 MB\n\r[ | ]\r[ / ]\r[ — ]\r[ \\ ]\r[ | ]\r[ / ]\r[OK!]\nlemma_antbnc download started this may take some time.\nApproximate size to download 907.6 KB\n\r[ | ]\r[ / ]\r[OK!]\n</div>",
       "datasetInfos": [],
       "metadata": {},
       "removedWidgets": [],
       "type": "html"
      }
     },
     "output_type": "display_data"
    }
   ],
   "source": [
    "from sparknlp import DocumentAssembler, Finisher\n",
    "from sparknlp.annotator import Tokenizer, NorvigSweetingModel, LemmatizerModel,\\\n",
    "                                Normalizer, StopWordsCleaner\n",
    "\n",
    "from pyspark.ml import Pipeline\n",
    "\n",
    "\n",
    "assembler = DocumentAssembler()\\\n",
    "                .setInputCol(\"features\")\\\n",
    "                .setOutputCol(\"doc\")\n",
    "tokenizer = Tokenizer()\\\n",
    "                .setInputCols([\"doc\"])\\\n",
    "                .setOutputCol(\"tokens_annotations\")\n",
    "stop_words = StopWordsCleaner()\\\n",
    "                .setInputCols([\"tokens_annotations\"])\\\n",
    "                .setOutputCol(\"clean_tokens_annotations\")\\\n",
    "                .setCaseSensitive(False)\n",
    "norvig_pretrained = NorvigSweetingModel.pretrained()\\\n",
    "                .setInputCols([\"clean_tokens_annotations\"])\\\n",
    "                .setOutputCol(\"norvig_annotations\")\n",
    "lemmatizer = LemmatizerModel.pretrained()\\\n",
    "                .setInputCols([\"norvig_annotations\"])\\\n",
    "                .setOutputCol(\"lemma_annotations\")\n",
    "normalizer = Normalizer()\\\n",
    "                .setInputCols([\"lemma_annotations\"])\\\n",
    "                .setOutputCol(\"normtoken_annotations\")\\\n",
    "                .setLowercase(True)\n",
    "finisher = Finisher()\\\n",
    "            .setInputCols([\"normtoken_annotations\"])\\\n",
    "            .setOutputCols([\"normtokens\"])\\\n",
    "            .setOutputAsArray(True)\n",
    "\n",
    "\n",
    "sparknlp_pipeline = Pipeline().setStages([\n",
    "                        assembler, tokenizer, stop_words,\n",
    "                        norvig_pretrained, lemmatizer, normalizer, finisher\n",
    "                    ])\n",
    "\n",
    "tokenizer_model = sparknlp_pipeline.fit(dataset.select(col(\"comment\").alias(\"features\"), col(\"emotion\")))\n",
    "processed = tokenizer_model.transform(dataset.select(col(\"comment\").alias(\"features\"), col(\"emotion\"))).select(col(\"normtokens\").alias(\"features\"), col(\"emotion\").alias(\"label\"))\n",
    "features, label = processed.first()"
   ]
  },
  {
   "cell_type": "code",
   "execution_count": null,
   "metadata": {
    "application/vnd.databricks.v1+cell": {
     "inputWidgets": {},
     "nuid": "c1658178-de44-4d96-904a-a8b63552b33e",
     "showTitle": false,
     "title": ""
    }
   },
   "outputs": [
    {
     "data": {
      "text/html": [
       "<style scoped>\n",
       "  .ansiout {\n",
       "    display: block;\n",
       "    unicode-bidi: embed;\n",
       "    white-space: pre-wrap;\n",
       "    word-wrap: break-word;\n",
       "    word-break: break-all;\n",
       "    font-family: \"Source Code Pro\", \"Menlo\", monospace;;\n",
       "    font-size: 13px;\n",
       "    color: #555;\n",
       "    margin-left: 4px;\n",
       "    line-height: 19px;\n",
       "  }\n",
       "</style>\n",
       "<div class=\"ansiout\">Out[59]: ([&#39;go&#39;,\n",
       "  &#39;feel&#39;,\n",
       "  &#39;hopeless&#39;,\n",
       "  &#39;damn&#39;,\n",
       "  &#39;hopeful&#39;,\n",
       "  &#39;around&#39;,\n",
       "  &#39;someone&#39;,\n",
       "  &#39;care&#39;,\n",
       "  &#39;awake&#39;],\n",
       " &#39;sadness&#39;)</div>"
      ]
     },
     "metadata": {
      "application/vnd.databricks.v1+output": {
       "addedWidgets": {},
       "arguments": {},
       "data": "<div class=\"ansiout\">Out[59]: ([&#39;go&#39;,\n  &#39;feel&#39;,\n  &#39;hopeless&#39;,\n  &#39;damn&#39;,\n  &#39;hopeful&#39;,\n  &#39;around&#39;,\n  &#39;someone&#39;,\n  &#39;care&#39;,\n  &#39;awake&#39;],\n &#39;sadness&#39;)</div>",
       "datasetInfos": [],
       "metadata": {},
       "removedWidgets": [],
       "type": "html"
      }
     },
     "output_type": "display_data"
    }
   ],
   "source": [
    "features, label"
   ]
  },
  {
   "cell_type": "markdown",
   "metadata": {},
   "source": [
    "Performing same operations from above"
   ]
  },
  {
   "cell_type": "code",
   "execution_count": null,
   "metadata": {
    "application/vnd.databricks.v1+cell": {
     "inputWidgets": {},
     "nuid": "ba97594e-160b-4013-9092-908e7c1f972a",
     "showTitle": false,
     "title": ""
    }
   },
   "outputs": [
    {
     "data": {
      "text/html": [
       "<style scoped>\n",
       "  .ansiout {\n",
       "    display: block;\n",
       "    unicode-bidi: embed;\n",
       "    white-space: pre-wrap;\n",
       "    word-wrap: break-word;\n",
       "    word-break: break-all;\n",
       "    font-family: \"Source Code Pro\", \"Menlo\", monospace;;\n",
       "    font-size: 13px;\n",
       "    color: #555;\n",
       "    margin-left: 4px;\n",
       "    line-height: 19px;\n",
       "  }\n",
       "</style>\n",
       "<div class=\"ansiout\">Out[67]: </div>"
      ]
     },
     "metadata": {
      "application/vnd.databricks.v1+output": {
       "addedWidgets": {},
       "arguments": {},
       "data": "<div class=\"ansiout\">Out[67]: </div>",
       "datasetInfos": [],
       "metadata": {},
       "removedWidgets": [],
       "type": "html"
      }
     },
     "output_type": "display_data"
    },
    {
     "data": {
      "text/html": [
       "<div>\n",
       "<style scoped>\n",
       "    .dataframe tbody tr th:only-of-type {\n",
       "        vertical-align: middle;\n",
       "    }\n",
       "\n",
       "    .dataframe tbody tr th {\n",
       "        vertical-align: top;\n",
       "    }\n",
       "\n",
       "    .dataframe thead th {\n",
       "        text-align: right;\n",
       "    }\n",
       "</style>\n",
       "<table border=\"1\" class=\"dataframe\">\n",
       "  <thead>\n",
       "    <tr style=\"text-align: right;\">\n",
       "      <th></th>\n",
       "      <th>features</th>\n",
       "      <th>label</th>\n",
       "    </tr>\n",
       "  </thead>\n",
       "  <tbody>\n",
       "    <tr>\n",
       "      <th>0</th>\n",
       "      <td>aa meet today really start feel isolate everyo...</td>\n",
       "      <td>sadness</td>\n",
       "    </tr>\n",
       "    <tr>\n",
       "      <th>1</th>\n",
       "      <td>able feel everything exactly sweet boy birth c...</td>\n",
       "      <td>joy</td>\n",
       "    </tr>\n",
       "    <tr>\n",
       "      <th>2</th>\n",
       "      <td>able feel little bit emotional freedom</td>\n",
       "      <td>sadness</td>\n",
       "    </tr>\n",
       "    <tr>\n",
       "      <th>3</th>\n",
       "      <td>able feel pressure talk group way well year se...</td>\n",
       "      <td>fear</td>\n",
       "    </tr>\n",
       "    <tr>\n",
       "      <th>4</th>\n",
       "      <td>able feel pretty</td>\n",
       "      <td>joy</td>\n",
       "    </tr>\n",
       "    <tr>\n",
       "      <th>...</th>\n",
       "      <td>...</td>\n",
       "      <td>...</td>\n",
       "    </tr>\n",
       "    <tr>\n",
       "      <th>15981</th>\n",
       "      <td>yet meet cancer patient feel burden poor self ...</td>\n",
       "      <td>sadness</td>\n",
       "    </tr>\n",
       "    <tr>\n",
       "      <th>15982</th>\n",
       "      <td>yoga open feel tender two hour late m nicely s...</td>\n",
       "      <td>love</td>\n",
       "    </tr>\n",
       "    <tr>\n",
       "      <th>15983</th>\n",
       "      <td>young cant get feel back shes get killer grin ...</td>\n",
       "      <td>sadness</td>\n",
       "    </tr>\n",
       "    <tr>\n",
       "      <th>15984</th>\n",
       "      <td>young think move country feel accept belong</td>\n",
       "      <td>joy</td>\n",
       "    </tr>\n",
       "    <tr>\n",
       "      <th>15985</th>\n",
       "      <td>zapper control seem feel user friendly easily ...</td>\n",
       "      <td>joy</td>\n",
       "    </tr>\n",
       "  </tbody>\n",
       "</table>\n",
       "<p>15986 rows × 2 columns</p>\n",
       "</div>"
      ]
     },
     "metadata": {
      "application/vnd.databricks.v1+output": {
       "addedWidgets": {},
       "arguments": {},
       "data": "<div>\n<style scoped>\n    .dataframe tbody tr th:only-of-type {\n        vertical-align: middle;\n    }\n\n    .dataframe tbody tr th {\n        vertical-align: top;\n    }\n\n    .dataframe thead th {\n        text-align: right;\n    }\n</style>\n<table border=\"1\" class=\"dataframe\">\n  <thead>\n    <tr style=\"text-align: right;\">\n      <th></th>\n      <th>features</th>\n      <th>label</th>\n    </tr>\n  </thead>\n  <tbody>\n    <tr>\n      <th>0</th>\n      <td>aa meet today really start feel isolate everyo...</td>\n      <td>sadness</td>\n    </tr>\n    <tr>\n      <th>1</th>\n      <td>able feel everything exactly sweet boy birth c...</td>\n      <td>joy</td>\n    </tr>\n    <tr>\n      <th>2</th>\n      <td>able feel little bit emotional freedom</td>\n      <td>sadness</td>\n    </tr>\n    <tr>\n      <th>3</th>\n      <td>able feel pressure talk group way well year se...</td>\n      <td>fear</td>\n    </tr>\n    <tr>\n      <th>4</th>\n      <td>able feel pretty</td>\n      <td>joy</td>\n    </tr>\n    <tr>\n      <th>...</th>\n      <td>...</td>\n      <td>...</td>\n    </tr>\n    <tr>\n      <th>15981</th>\n      <td>yet meet cancer patient feel burden poor self ...</td>\n      <td>sadness</td>\n    </tr>\n    <tr>\n      <th>15982</th>\n      <td>yoga open feel tender two hour late m nicely s...</td>\n      <td>love</td>\n    </tr>\n    <tr>\n      <th>15983</th>\n      <td>young cant get feel back shes get killer grin ...</td>\n      <td>sadness</td>\n    </tr>\n    <tr>\n      <th>15984</th>\n      <td>young think move country feel accept belong</td>\n      <td>joy</td>\n    </tr>\n    <tr>\n      <th>15985</th>\n      <td>zapper control seem feel user friendly easily ...</td>\n      <td>joy</td>\n    </tr>\n  </tbody>\n</table>\n<p>15986 rows × 2 columns</p>\n</div>",
       "datasetInfos": [],
       "metadata": {},
       "removedWidgets": [],
       "textData": null,
       "type": "htmlSandbox"
      }
     },
     "output_type": "display_data"
    }
   ],
   "source": [
    "join_tokens_udf = udf(lambda tokens: \" \".join(tokens), StringType())\n",
    "cleaned_df = processed.select(join_tokens_udf(col(\"features\")).alias(\"features\"), col(\"label\"))\n",
    "\n",
    "train, test = cleaned_df.randomSplit([0.8, 0.2])\n",
    "train_df, test_df = train.toPandas(), test.toPandas()\n",
    "\n",
    "train_df"
   ]
  },
  {
   "cell_type": "code",
   "execution_count": null,
   "metadata": {
    "application/vnd.databricks.v1+cell": {
     "inputWidgets": {},
     "nuid": "cdaa7f23-adcd-41fb-95bc-dd681a481f74",
     "showTitle": false,
     "title": ""
    }
   },
   "outputs": [
    {
     "data": {
      "text/html": [
       "<style scoped>\n",
       "  .ansiout {\n",
       "    display: block;\n",
       "    unicode-bidi: embed;\n",
       "    white-space: pre-wrap;\n",
       "    word-wrap: break-word;\n",
       "    word-break: break-all;\n",
       "    font-family: \"Source Code Pro\", \"Menlo\", monospace;;\n",
       "    font-size: 13px;\n",
       "    color: #555;\n",
       "    margin-left: 4px;\n",
       "    line-height: 19px;\n",
       "  }\n",
       "</style>\n",
       "<div class=\"ansiout\"></div>"
      ]
     },
     "metadata": {
      "application/vnd.databricks.v1+output": {
       "addedWidgets": {},
       "arguments": {},
       "data": "<div class=\"ansiout\"></div>",
       "datasetInfos": [],
       "metadata": {},
       "removedWidgets": [],
       "type": "html"
      }
     },
     "output_type": "display_data"
    }
   ],
   "source": [
    "DICT_SIZE = 1000\n",
    "\n",
    "df_full = cleaned_df.toPandas()\n",
    "\n",
    "X_df_train, y_df_train = train_df['features'].values, train_df['label'].values\n",
    "X_df_val, y_df_val = test_df['features'].values, test_df['label'].values\n",
    "\n",
    "df_vectorizer = TfidfVectorizer(token_pattern=r\"(?<!\\d|\\S)\\b[a-zA-Z]{3,}\\b\",\n",
    "                                   analyzer='word', ngram_range=(1, 1),\n",
    "                                   max_df=0.9, max_features=DICT_SIZE)\n",
    "\n",
    "with parallel_backend('threading', n_jobs=4):\n",
    "    df_vectorizer.fit(df_full['features'].values)\n",
    "    X_df_train = df_vectorizer.transform(X_df_train)\n",
    "    X_df_val = df_vectorizer.transform(X_df_val)"
   ]
  },
  {
   "cell_type": "code",
   "execution_count": null,
   "metadata": {
    "application/vnd.databricks.v1+cell": {
     "inputWidgets": {},
     "nuid": "65414597-e459-47f2-8837-2bcdf8f6794a",
     "showTitle": false,
     "title": ""
    }
   },
   "outputs": [
    {
     "data": {
      "text/html": [
       "<style scoped>\n",
       "  .ansiout {\n",
       "    display: block;\n",
       "    unicode-bidi: embed;\n",
       "    white-space: pre-wrap;\n",
       "    word-wrap: break-word;\n",
       "    word-break: break-all;\n",
       "    font-family: \"Source Code Pro\", \"Menlo\", monospace;;\n",
       "    font-size: 13px;\n",
       "    color: #555;\n",
       "    margin-left: 4px;\n",
       "    line-height: 19px;\n",
       "  }\n",
       "</style>\n",
       "<div class=\"ansiout\">Out[71]: array([2, 4, 4, 5, 3, 4, 2, 2, 4, 4])</div>"
      ]
     },
     "metadata": {
      "application/vnd.databricks.v1+output": {
       "addedWidgets": {},
       "arguments": {},
       "data": "<div class=\"ansiout\">Out[71]: array([2, 4, 4, 5, 3, 4, 2, 2, 4, 4])</div>",
       "datasetInfos": [],
       "metadata": {},
       "removedWidgets": [],
       "type": "html"
      }
     },
     "output_type": "display_data"
    }
   ],
   "source": [
    "df_encoder = LabelEncoder().fit(df_full['label'].values)\n",
    "y_df_train = df_encoder.transform(y_df_train)\n",
    "y_df_val = df_encoder.transform(y_df_val)\n",
    "\n",
    "df_labels[:10]"
   ]
  },
  {
   "cell_type": "code",
   "execution_count": null,
   "metadata": {
    "application/vnd.databricks.v1+cell": {
     "inputWidgets": {},
     "nuid": "0601d90f-2d7f-426e-a589-e0d364a02d78",
     "showTitle": false,
     "title": ""
    }
   },
   "outputs": [
    {
     "data": {
      "text/html": [
       "<style scoped>\n",
       "  .ansiout {\n",
       "    display: block;\n",
       "    unicode-bidi: embed;\n",
       "    white-space: pre-wrap;\n",
       "    word-wrap: break-word;\n",
       "    word-break: break-all;\n",
       "    font-family: \"Source Code Pro\", \"Menlo\", monospace;;\n",
       "    font-size: 13px;\n",
       "    color: #555;\n",
       "    margin-left: 4px;\n",
       "    line-height: 19px;\n",
       "  }\n",
       "</style>\n",
       "<div class=\"ansiout\">Out[72]: 0.8880299251870324</div>"
      ]
     },
     "metadata": {
      "application/vnd.databricks.v1+output": {
       "addedWidgets": {},
       "arguments": {},
       "data": "<div class=\"ansiout\">Out[72]: 0.8880299251870324</div>",
       "datasetInfos": [],
       "metadata": {},
       "removedWidgets": [],
       "type": "html"
      }
     },
     "output_type": "display_data"
    }
   ],
   "source": [
    "cl_classifier = OneVsOneClassifier(LinearSVC(max_iter=10000))\n",
    "cl_classifier.fit(X_df_train, y_df_train)\n",
    "\n",
    "cl_classifier.score(X_df_val, y_df_val)"
   ]
  },
  {
   "cell_type": "code",
   "execution_count": null,
   "metadata": {
    "application/vnd.databricks.v1+cell": {
     "inputWidgets": {},
     "nuid": "4b26a019-7939-4072-93a7-6ffc1e16b39a",
     "showTitle": false,
     "title": ""
    }
   },
   "outputs": [
    {
     "data": {
      "text/html": [
       "<style scoped>\n",
       "  .ansiout {\n",
       "    display: block;\n",
       "    unicode-bidi: embed;\n",
       "    white-space: pre-wrap;\n",
       "    word-wrap: break-word;\n",
       "    word-break: break-all;\n",
       "    font-family: \"Source Code Pro\", \"Menlo\", monospace;;\n",
       "    font-size: 13px;\n",
       "    color: #555;\n",
       "    margin-left: 4px;\n",
       "    line-height: 19px;\n",
       "  }\n",
       "</style>\n",
       "<div class=\"ansiout\">Out[74]: </div>"
      ]
     },
     "metadata": {
      "application/vnd.databricks.v1+output": {
       "addedWidgets": {},
       "arguments": {},
       "data": "<div class=\"ansiout\">Out[74]: </div>",
       "datasetInfos": [],
       "metadata": {},
       "removedWidgets": [],
       "type": "html"
      }
     },
     "output_type": "display_data"
    },
    {
     "data": {
      "text/html": [
       "<div>\n",
       "<style scoped>\n",
       "    .dataframe tbody tr th:only-of-type {\n",
       "        vertical-align: middle;\n",
       "    }\n",
       "\n",
       "    .dataframe tbody tr th {\n",
       "        vertical-align: top;\n",
       "    }\n",
       "\n",
       "    .dataframe thead th {\n",
       "        text-align: right;\n",
       "    }\n",
       "</style>\n",
       "<table border=\"1\" class=\"dataframe\">\n",
       "  <thead>\n",
       "    <tr style=\"text-align: right;\">\n",
       "      <th></th>\n",
       "      <th>Metric</th>\n",
       "      <th>Value</th>\n",
       "    </tr>\n",
       "  </thead>\n",
       "  <tbody>\n",
       "    <tr>\n",
       "      <th>0</th>\n",
       "      <td>Accuracy</td>\n",
       "      <td>0.888030</td>\n",
       "    </tr>\n",
       "    <tr>\n",
       "      <th>1</th>\n",
       "      <td>F1 Weighted</td>\n",
       "      <td>0.887266</td>\n",
       "    </tr>\n",
       "    <tr>\n",
       "      <th>2</th>\n",
       "      <td>Precision</td>\n",
       "      <td>0.888110</td>\n",
       "    </tr>\n",
       "    <tr>\n",
       "      <th>3</th>\n",
       "      <td>Recall</td>\n",
       "      <td>0.888030</td>\n",
       "    </tr>\n",
       "  </tbody>\n",
       "</table>\n",
       "</div>"
      ]
     },
     "metadata": {
      "application/vnd.databricks.v1+output": {
       "addedWidgets": {},
       "arguments": {},
       "data": "<div>\n<style scoped>\n    .dataframe tbody tr th:only-of-type {\n        vertical-align: middle;\n    }\n\n    .dataframe tbody tr th {\n        vertical-align: top;\n    }\n\n    .dataframe thead th {\n        text-align: right;\n    }\n</style>\n<table border=\"1\" class=\"dataframe\">\n  <thead>\n    <tr style=\"text-align: right;\">\n      <th></th>\n      <th>Metric</th>\n      <th>Value</th>\n    </tr>\n  </thead>\n  <tbody>\n    <tr>\n      <th>0</th>\n      <td>Accuracy</td>\n      <td>0.888030</td>\n    </tr>\n    <tr>\n      <th>1</th>\n      <td>F1 Weighted</td>\n      <td>0.887266</td>\n    </tr>\n    <tr>\n      <th>2</th>\n      <td>Precision</td>\n      <td>0.888110</td>\n    </tr>\n    <tr>\n      <th>3</th>\n      <td>Recall</td>\n      <td>0.888030</td>\n    </tr>\n  </tbody>\n</table>\n</div>",
       "datasetInfos": [],
       "metadata": {},
       "removedWidgets": [],
       "textData": null,
       "type": "htmlSandbox"
      }
     },
     "output_type": "display_data"
    }
   ],
   "source": [
    "y_df_predicted = cl_classifier.predict(X_df_val)\n",
    "\n",
    "pd.DataFrame([\n",
    "    ['Accuracy', accuracy_score(y_df_val, y_df_predicted)],\n",
    "    ['F1 Weighted', f1_score(y_df_val, y_df_predicted, average='weighted')],\n",
    "    ['Precision', precision_score(y_df_val, y_df_predicted, average='weighted')],\n",
    "    ['Recall', recall_score(y_df_val, y_df_predicted, average='weighted')]\n",
    "], columns=['Metric', 'Value'])"
   ]
  },
  {
   "cell_type": "code",
   "execution_count": null,
   "metadata": {
    "application/vnd.databricks.v1+cell": {
     "inputWidgets": {},
     "nuid": "bfbcb263-0f7e-4003-b703-37ef69b27aca",
     "showTitle": false,
     "title": ""
    }
   },
   "outputs": [
    {
     "data": {
      "image/png": "[encoded data removed]"
     },
     "metadata": {
      "application/vnd.databricks.v1+output": {
       "addedWidgets": {},
       "arguments": {},
       "data": "/plots/9e49ab8e-24dc-47ed-8574-2a68c1033001.png",
       "datasetInfos": [],
       "metadata": {},
       "removedWidgets": [],
       "type": "image"
      }
     },
     "output_type": "display_data"
    }
   ],
   "source": [
    "for i in range(len(label_summary[\"label\"])):\n",
    "    fpr, tpr, thresh = roc_curve(y_df_val, y_df_predicted, pos_label=i)\n",
    "    plt.plot(fpr, tpr, linestyle='--', label=f'Rate for {label_summary[\"label\"][i]}')\n",
    "\n",
    "# roc curve for tpr = fpr \n",
    "random_probs = [0 for i in range(len(y_val))]\n",
    "p_fpr, p_tpr, _ = roc_curve(y_val, random_probs, pos_label=0)\n",
    "plt.plot(p_fpr, p_tpr, linestyle='--', color='blue')\n",
    "\n",
    "plt.title('ROC curve')\n",
    "plt.xlabel('False Positive Rate')\n",
    "plt.ylabel('True Positive rate')\n",
    "\n",
    "plt.legend(loc='best')\n",
    "plt.show()"
   ]
  },
  {
   "cell_type": "markdown",
   "metadata": {},
   "source": [
    "Saving model to the environment."
   ]
  },
  {
   "cell_type": "code",
   "execution_count": null,
   "metadata": {
    "application/vnd.databricks.v1+cell": {
     "inputWidgets": {},
     "nuid": "82eede33-a85a-4c7b-b108-3a3fc1b39ff0",
     "showTitle": false,
     "title": ""
    }
   },
   "outputs": [
    {
     "data": {
      "text/html": [
       "<style scoped>\n",
       "  .ansiout {\n",
       "    display: block;\n",
       "    unicode-bidi: embed;\n",
       "    white-space: pre-wrap;\n",
       "    word-wrap: break-word;\n",
       "    word-break: break-all;\n",
       "    font-family: \"Source Code Pro\", \"Menlo\", monospace;;\n",
       "    font-size: 13px;\n",
       "    color: #555;\n",
       "    margin-left: 4px;\n",
       "    line-height: 19px;\n",
       "  }\n",
       "</style>\n",
       "<div class=\"ansiout\"></div>"
      ]
     },
     "metadata": {
      "application/vnd.databricks.v1+output": {
       "addedWidgets": {},
       "arguments": {},
       "data": "<div class=\"ansiout\"></div>",
       "datasetInfos": [],
       "metadata": {},
       "removedWidgets": [],
       "type": "html"
      }
     },
     "output_type": "display_data"
    }
   ],
   "source": [
    "import mlflow\n",
    "\n",
    "with mlflow.start_run():\n",
    "  mlflow.sklearn.log_model(tfidf_vectorizer, \"original-sentimental-vectorizer\")\n",
    "  mlflow.sklearn.log_model(model, \"original-sentimental-detector\")\n",
    "  mlflow.sklearn.log_model(encoder, \"original-sentimental-encoder\")\n",
    "  mlflow.sklearn.log_model(cl_classifier, \"cleared-sentimantal-detector\")"
   ]
  }
 ],
 "metadata": {
  "application/vnd.databricks.v1+notebook": {
   "dashboards": [],
   "language": "python",
   "notebookMetadata": {
    "experimentId": "3562566024132324",
    "pythonIndentUnit": 2
   },
   "notebookName": "user-comment-sentiment-analysis",
   "notebookOrigID": 3562566024132324,
   "widgets": {}
  },
  "kernelspec": {
   "display_name": "Python 3",
   "language": "python",
   "name": "python3"
  },
  "language_info": {
   "codemirror_mode": {
    "name": "ipython",
    "version": 3
   },
   "file_extension": ".py",
   "mimetype": "text/x-python",
   "name": "python",
   "nbconvert_exporter": "python",
   "pygments_lexer": "ipython3",
   "version": "3.7.10"
  }
 },
 "nbformat": 4,
 "nbformat_minor": 4
}
